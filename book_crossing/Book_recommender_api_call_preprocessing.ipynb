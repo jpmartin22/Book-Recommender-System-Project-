{
 "cells": [
  {
   "cell_type": "markdown",
   "id": "35f7c86b-f9bc-4320-8c07-4c08e622fe57",
   "metadata": {},
   "source": [
    "# Book info supplementation with API call\n",
    "#### Book info does not contain any data about book description or book categories (genre). We used openli"
   ]
  },
  {
   "cell_type": "code",
   "execution_count": 169,
   "id": "2d73405a-d38f-45a4-9acf-502f90f57314",
   "metadata": {},
   "outputs": [],
   "source": [
    "import pandas as pd\n",
    "import requests"
   ]
  },
  {
   "cell_type": "code",
   "execution_count": 171,
   "id": "8d4b1fff-efa1-4e23-82ba-9fa3b36258c1",
   "metadata": {},
   "outputs": [],
   "source": [
    "book_rating = pd.read_csv(\"book_ratings.dat\", sep = \"\\t\", header = 0, index_col=None)"
   ]
  },
  {
   "cell_type": "code",
   "execution_count": 173,
   "id": "ad1592ab-5e64-41b4-97c0-c0545dec31a6",
   "metadata": {},
   "outputs": [
    {
     "data": {
      "text/html": [
       "<div>\n",
       "<style scoped>\n",
       "    .dataframe tbody tr th:only-of-type {\n",
       "        vertical-align: middle;\n",
       "    }\n",
       "\n",
       "    .dataframe tbody tr th {\n",
       "        vertical-align: top;\n",
       "    }\n",
       "\n",
       "    .dataframe thead th {\n",
       "        text-align: right;\n",
       "    }\n",
       "</style>\n",
       "<table border=\"1\" class=\"dataframe\">\n",
       "  <thead>\n",
       "    <tr style=\"text-align: right;\">\n",
       "      <th></th>\n",
       "      <th>user</th>\n",
       "      <th>item</th>\n",
       "      <th>rating</th>\n",
       "    </tr>\n",
       "  </thead>\n",
       "  <tbody>\n",
       "    <tr>\n",
       "      <th>0</th>\n",
       "      <td>1</td>\n",
       "      <td>6264</td>\n",
       "      <td>7.0</td>\n",
       "    </tr>\n",
       "    <tr>\n",
       "      <th>1</th>\n",
       "      <td>1</td>\n",
       "      <td>4350</td>\n",
       "      <td>7.0</td>\n",
       "    </tr>\n",
       "    <tr>\n",
       "      <th>2</th>\n",
       "      <td>1</td>\n",
       "      <td>6252</td>\n",
       "      <td>5.0</td>\n",
       "    </tr>\n",
       "    <tr>\n",
       "      <th>3</th>\n",
       "      <td>1</td>\n",
       "      <td>202</td>\n",
       "      <td>9.0</td>\n",
       "    </tr>\n",
       "    <tr>\n",
       "      <th>4</th>\n",
       "      <td>1</td>\n",
       "      <td>6266</td>\n",
       "      <td>6.0</td>\n",
       "    </tr>\n",
       "  </tbody>\n",
       "</table>\n",
       "</div>"
      ],
      "text/plain": [
       "   user  item  rating\n",
       "0     1  6264     7.0\n",
       "1     1  4350     7.0\n",
       "2     1  6252     5.0\n",
       "3     1   202     9.0\n",
       "4     1  6266     6.0"
      ]
     },
     "execution_count": 173,
     "metadata": {},
     "output_type": "execute_result"
    }
   ],
   "source": [
    "book_rating.head()"
   ]
  },
  {
   "cell_type": "code",
   "execution_count": 175,
   "id": "bcff2a21-f0c0-4055-8a85-633f204e9fd9",
   "metadata": {},
   "outputs": [],
   "source": [
    "# Open the file and remove trailing tabs\n",
    "with open(\"items_info.dat\", \"r\") as file:\n",
    "    lines = file.readlines()\n",
    "\n",
    "# Strip trailing tabs and save to a new file\n",
    "cleaned_lines = [line.rstrip('\\t').strip() for line in lines]\n",
    "\n",
    "# Write the cleaned lines to a new file\n",
    "with open(\"cleaned_items_info.txt\", \"w\") as new_file:\n",
    "    new_file.writelines([line + '\\n' for line in cleaned_lines])"
   ]
  },
  {
   "cell_type": "code",
   "execution_count": 179,
   "id": "4349db35-d613-40ba-9ce1-75e49133985a",
   "metadata": {
    "scrolled": true
   },
   "outputs": [],
   "source": [
    "book_info = pd.read_csv(\"cleaned_items_info.txt\", sep = \"\\t\", header = 0, index_col = None, usecols = range(5))"
   ]
  },
  {
   "cell_type": "code",
   "execution_count": 181,
   "id": "80718be6-f559-4b44-b576-c022f96655cf",
   "metadata": {},
   "outputs": [
    {
     "data": {
      "text/html": [
       "<div>\n",
       "<style scoped>\n",
       "    .dataframe tbody tr th:only-of-type {\n",
       "        vertical-align: middle;\n",
       "    }\n",
       "\n",
       "    .dataframe tbody tr th {\n",
       "        vertical-align: top;\n",
       "    }\n",
       "\n",
       "    .dataframe thead th {\n",
       "        text-align: right;\n",
       "    }\n",
       "</style>\n",
       "<table border=\"1\" class=\"dataframe\">\n",
       "  <thead>\n",
       "    <tr style=\"text-align: right;\">\n",
       "      <th></th>\n",
       "      <th>Book_ID</th>\n",
       "      <th>ISBN</th>\n",
       "      <th>Book-Title</th>\n",
       "      <th>Book-Author</th>\n",
       "      <th>Year-Of-Publication</th>\n",
       "    </tr>\n",
       "  </thead>\n",
       "  <tbody>\n",
       "    <tr>\n",
       "      <th>0</th>\n",
       "      <td>1</td>\n",
       "      <td>0060973129</td>\n",
       "      <td>Decision in Normandy</td>\n",
       "      <td>Carlo D'Este</td>\n",
       "      <td>1991</td>\n",
       "    </tr>\n",
       "    <tr>\n",
       "      <th>1</th>\n",
       "      <td>2</td>\n",
       "      <td>0393045218</td>\n",
       "      <td>The Mummies of Urumchi</td>\n",
       "      <td>E. J. W. Barber</td>\n",
       "      <td>1999</td>\n",
       "    </tr>\n",
       "    <tr>\n",
       "      <th>2</th>\n",
       "      <td>3</td>\n",
       "      <td>0425176428</td>\n",
       "      <td>What If?: The World's Foremost Military Histor...</td>\n",
       "      <td>Robert Cowley</td>\n",
       "      <td>2000</td>\n",
       "    </tr>\n",
       "    <tr>\n",
       "      <th>3</th>\n",
       "      <td>4</td>\n",
       "      <td>0452264464</td>\n",
       "      <td>Beloved (Plume Contemporary Fiction)</td>\n",
       "      <td>Toni Morrison</td>\n",
       "      <td>1994</td>\n",
       "    </tr>\n",
       "    <tr>\n",
       "      <th>4</th>\n",
       "      <td>5</td>\n",
       "      <td>0609804618</td>\n",
       "      <td>Our Dumb Century: The Onion Presents 100 Years...</td>\n",
       "      <td>The Onion</td>\n",
       "      <td>1999</td>\n",
       "    </tr>\n",
       "  </tbody>\n",
       "</table>\n",
       "</div>"
      ],
      "text/plain": [
       "   Book_ID        ISBN                                         Book-Title  \\\n",
       "0        1  0060973129                               Decision in Normandy   \n",
       "1        2  0393045218                             The Mummies of Urumchi   \n",
       "2        3  0425176428  What If?: The World's Foremost Military Histor...   \n",
       "3        4  0452264464               Beloved (Plume Contemporary Fiction)   \n",
       "4        5  0609804618  Our Dumb Century: The Onion Presents 100 Years...   \n",
       "\n",
       "       Book-Author Year-Of-Publication  \n",
       "0     Carlo D'Este                1991  \n",
       "1  E. J. W. Barber                1999  \n",
       "2    Robert Cowley                2000  \n",
       "3    Toni Morrison                1994  \n",
       "4        The Onion                1999  "
      ]
     },
     "execution_count": 181,
     "metadata": {},
     "output_type": "execute_result"
    }
   ],
   "source": [
    "book_info.head()"
   ]
  },
  {
   "cell_type": "code",
   "execution_count": 183,
   "id": "5f147d51-cecb-4330-9edc-ad10305bbc02",
   "metadata": {},
   "outputs": [],
   "source": [
    "isbn_list = book_info['ISBN'].tolist()"
   ]
  },
  {
   "cell_type": "code",
   "execution_count": 185,
   "id": "56fddd98-dfaf-4eed-b50f-ee47769a6117",
   "metadata": {},
   "outputs": [
    {
     "data": {
      "text/plain": [
       "17384"
      ]
     },
     "execution_count": 185,
     "metadata": {},
     "output_type": "execute_result"
    }
   ],
   "source": [
    "len(isbn_list)"
   ]
  },
  {
   "cell_type": "code",
   "execution_count": 195,
   "id": "e3c5cfab-0d14-445d-857f-3df0c4511aa0",
   "metadata": {},
   "outputs": [],
   "source": [
    "# there are 17384 books, we can split the list into 3 parts of about 6000 books each\n",
    "isbn_list1 = isbn_list[:6000]\n",
    "isbn_list2 = isbn_list[6000:12000]\n",
    "isbn_list3 = isbn_list[12000:]"
   ]
  },
  {
   "cell_type": "code",
   "execution_count": 197,
   "id": "11c7c34d-49e3-4645-a8c5-91518eb6b581",
   "metadata": {},
   "outputs": [
    {
     "name": "stdout",
     "output_type": "stream",
     "text": [
      "6000\n",
      "6000\n",
      "5384\n"
     ]
    }
   ],
   "source": [
    "print(len(isbn_list1))\n",
    "print(len(isbn_list2))\n",
    "print(len(isbn_list3))"
   ]
  },
  {
   "cell_type": "code",
   "execution_count": 187,
   "id": "bfe5fdb2-1d37-4055-a50e-49ac6df7f88c",
   "metadata": {},
   "outputs": [],
   "source": [
    "import time"
   ]
  },
  {
   "cell_type": "code",
   "execution_count": 287,
   "id": "3c081edb-2780-486f-9503-16eed216fd91",
   "metadata": {},
   "outputs": [
    {
     "name": "stdout",
     "output_type": "stream",
     "text": [
      "Batch API call complete and saved to CSV.\n"
     ]
    }
   ],
   "source": [
    "# Batch the ISBNs into groups of 100\n",
    "batch_size = 100\n",
    "batches1 = [isbn_list1[i:i + batch_size] for i in range(0, len(isbn_list1), batch_size)]\n",
    "batches2 = [isbn_list2[i:i + batch_size] for i in range(0, len(isbn_list2), batch_size)]\n",
    "batches3 = [isbn_list3[i:i + batch_size] for i in range(0, len(isbn_list3), batch_size)]\n",
    "\n",
    "# Initialize a list to store the results\n",
    "book_data1 = []\n",
    "\n",
    "# Loop through each batch\n",
    "for batch in batches1:\n",
    "    # Prepare the list of ISBNs for the batch request\n",
    "    isbn_batch = \",\".join([f\"ISBN:{isbn}\" for isbn in batch])\n",
    "    \n",
    "    url = f\"https://openlibrary.org/api/books?bibkeys={isbn_batch}&format=json&jscmd=details\"\n",
    "    \n",
    "    # Make the batch request\n",
    "    response = requests.get(url)\n",
    "    \n",
    "    # Check if the response is valid\n",
    "    if response.status_code == 200:\n",
    "        book_info = response.json()\n",
    "        \n",
    "        # Extract data for each ISBN in the batch\n",
    "        for isbn in batch:\n",
    "            book = book_info.get(f\"ISBN:{isbn}\", {}).get(\"details\")\n",
    "            if book is None:\n",
    "                continue\n",
    "            title = book.get(\"title\", \"N/A\")\n",
    "            desc = book.get(\"description\", \"No description available\")\n",
    "            if isinstance(desc, dict):\n",
    "                description = desc.get(\"value\", \"No description available\")\n",
    "            else:\n",
    "                description = desc\n",
    "            category = list(set([item.strip() for subject in book.get(\"subjects\", []) for item in subject.split(\"--\")])) if \"subjects\" in book else \"N/A\"\n",
    "            \n",
    "            book_data1.append({\n",
    "                \"ISBN\": isbn,\n",
    "                \"Title\": title,\n",
    "                \"Description\": description,\n",
    "                \"Category\": category\n",
    "            })\n",
    "    \n",
    "    # Sleep to avoid hitting rate limits\n",
    "    time.sleep(1)  # 1 second delay between batches\n",
    "\n",
    "# Convert the results into a pandas DataFrame\n",
    "result_df1 = pd.DataFrame(book_data1)\n",
    "\n",
    "# Save the results to a CSV file\n",
    "result_df1.to_csv(\"books_info1.csv\", index=False)\n",
    "\n",
    "print(\"Batch API call complete and saved to CSV.\")"
   ]
  },
  {
   "cell_type": "code",
   "execution_count": 295,
   "id": "c79c83a5-ac27-4f25-8233-175ccbfd9103",
   "metadata": {},
   "outputs": [
    {
     "data": {
      "text/plain": [
       "54"
      ]
     },
     "execution_count": 295,
     "metadata": {},
     "output_type": "execute_result"
    }
   ],
   "source": [
    "(result_df1[\"Description\"] == \"No description available\").sum()\n",
    "len(batches3)"
   ]
  },
  {
   "cell_type": "code",
   "execution_count": 299,
   "id": "52881bb5-b0b9-477f-a04a-81f3fbb7b3eb",
   "metadata": {},
   "outputs": [
    {
     "name": "stdout",
     "output_type": "stream",
     "text": [
      "Batch API call complete and saved to CSV.\n"
     ]
    }
   ],
   "source": [
    "# Initialize a list to store the results\n",
    "book_data2 = []\n",
    "\n",
    "# Loop through each batch\n",
    "for batch in batches2:\n",
    "    # Prepare the list of ISBNs for the batch request\n",
    "    isbn_batch = \",\".join([f\"ISBN:{isbn}\" for isbn in batch])\n",
    "    \n",
    "    url = f\"https://openlibrary.org/api/books?bibkeys={isbn_batch}&format=json&jscmd=details\"\n",
    "    \n",
    "    # Make the batch request\n",
    "    response = requests.get(url)\n",
    "    \n",
    "    # Check if the response is valid\n",
    "    if response.status_code == 200:\n",
    "        book_info = response.json()\n",
    "        \n",
    "        # Extract data for each ISBN in the batch\n",
    "        for isbn in batch:\n",
    "            book = book_info.get(f\"ISBN:{isbn}\", {}).get(\"details\")\n",
    "            if book is None:\n",
    "                continue\n",
    "            title = book.get(\"title\", \"N/A\")\n",
    "            desc = book.get(\"description\", \"No description available\")\n",
    "            if isinstance(desc, dict):\n",
    "                description = desc.get(\"value\", \"No description available\")\n",
    "            else:\n",
    "                description = desc\n",
    "            category = list(set([item.strip() for subject in book.get(\"subjects\", []) for item in subject.split(\"--\")])) if \"subjects\" in book else \"N/A\"\n",
    "            \n",
    "            book_data2.append({\n",
    "                \"ISBN\": isbn,\n",
    "                \"Title\": title,\n",
    "                \"Description\": description,\n",
    "                \"Category\": category\n",
    "            })\n",
    "    \n",
    "    # Sleep to avoid hitting rate limits\n",
    "    time.sleep(1)  # 1 second delay between batches\n",
    "\n",
    "# Convert the results into a pandas DataFrame\n",
    "result_df2 = pd.DataFrame(book_data2)\n",
    "\n",
    "# Save the results to a CSV file\n",
    "result_df2.to_csv(\"books_info2.csv\", index=False)\n",
    "\n",
    "print(\"Batch API call complete and saved to CSV.\")"
   ]
  },
  {
   "cell_type": "code",
   "execution_count": 314,
   "id": "42b5adf1-9f01-47e7-b9ea-df1a5e02f2cd",
   "metadata": {},
   "outputs": [
    {
     "data": {
      "text/html": [
       "<div>\n",
       "<style scoped>\n",
       "    .dataframe tbody tr th:only-of-type {\n",
       "        vertical-align: middle;\n",
       "    }\n",
       "\n",
       "    .dataframe tbody tr th {\n",
       "        vertical-align: top;\n",
       "    }\n",
       "\n",
       "    .dataframe thead th {\n",
       "        text-align: right;\n",
       "    }\n",
       "</style>\n",
       "<table border=\"1\" class=\"dataframe\">\n",
       "  <thead>\n",
       "    <tr style=\"text-align: right;\">\n",
       "      <th></th>\n",
       "      <th>ISBN</th>\n",
       "      <th>Title</th>\n",
       "      <th>Description</th>\n",
       "      <th>Category</th>\n",
       "    </tr>\n",
       "  </thead>\n",
       "  <tbody>\n",
       "    <tr>\n",
       "      <th>0</th>\n",
       "      <td>0553280643</td>\n",
       "      <td>The gate to women's country</td>\n",
       "      <td>No description available</td>\n",
       "      <td>N/A</td>\n",
       "    </tr>\n",
       "    <tr>\n",
       "      <th>1</th>\n",
       "      <td>0385480210</td>\n",
       "      <td>The Pocket Mirror of Heroes</td>\n",
       "      <td>The Art of Worldly Wisdom by Baltasar Gracian ...</td>\n",
       "      <td>N/A</td>\n",
       "    </tr>\n",
       "    <tr>\n",
       "      <th>2</th>\n",
       "      <td>1570612676</td>\n",
       "      <td>Portland</td>\n",
       "      <td>No description available</td>\n",
       "      <td>[Guidebooks., Portland (Or.)]</td>\n",
       "    </tr>\n",
       "    <tr>\n",
       "      <th>3</th>\n",
       "      <td>3293202047</td>\n",
       "      <td>Nana Plaza.</td>\n",
       "      <td>No description available</td>\n",
       "      <td>N/A</td>\n",
       "    </tr>\n",
       "    <tr>\n",
       "      <th>4</th>\n",
       "      <td>0805065415</td>\n",
       "      <td>Blue Latitudes</td>\n",
       "      <td>\"James Cook's three epic journeys in the eight...</td>\n",
       "      <td>[Voyages around the world, Cook, James,, 1958-...</td>\n",
       "    </tr>\n",
       "  </tbody>\n",
       "</table>\n",
       "</div>"
      ],
      "text/plain": [
       "         ISBN                        Title  \\\n",
       "0  0553280643  The gate to women's country   \n",
       "1  0385480210  The Pocket Mirror of Heroes   \n",
       "2  1570612676                     Portland   \n",
       "3  3293202047                  Nana Plaza.   \n",
       "4  0805065415               Blue Latitudes   \n",
       "\n",
       "                                         Description  \\\n",
       "0                           No description available   \n",
       "1  The Art of Worldly Wisdom by Baltasar Gracian ...   \n",
       "2                           No description available   \n",
       "3                           No description available   \n",
       "4  \"James Cook's three epic journeys in the eight...   \n",
       "\n",
       "                                            Category  \n",
       "0                                                N/A  \n",
       "1                                                N/A  \n",
       "2                      [Guidebooks., Portland (Or.)]  \n",
       "3                                                N/A  \n",
       "4  [Voyages around the world, Cook, James,, 1958-...  "
      ]
     },
     "execution_count": 314,
     "metadata": {},
     "output_type": "execute_result"
    }
   ],
   "source": [
    "result_df2.head()"
   ]
  },
  {
   "cell_type": "code",
   "execution_count": 318,
   "id": "79c5dbdb-13eb-4a54-b452-acf224930a46",
   "metadata": {
    "scrolled": true
   },
   "outputs": [
    {
     "name": "stdout",
     "output_type": "stream",
     "text": [
      "Batch API call complete and saved to CSV.\n"
     ]
    }
   ],
   "source": [
    "# Initialize a list to store the results\n",
    "book_data3 = []\n",
    "\n",
    "# Loop through each batch\n",
    "for batch in batches3:\n",
    "    # Prepare the list of ISBNs for the batch request\n",
    "    isbn_batch = \",\".join([f\"ISBN:{isbn}\" for isbn in batch])\n",
    "    \n",
    "    url = f\"https://openlibrary.org/api/books?bibkeys={isbn_batch}&format=json&jscmd=details\"\n",
    "    \n",
    "    # Make the batch request\n",
    "    response = requests.get(url)\n",
    "    \n",
    "    # Check if the response is valid\n",
    "    if response.status_code == 200:\n",
    "        book_info = response.json()\n",
    "        # Extract data for each ISBN in the batch\n",
    "        for isbn in batch:\n",
    "            book = book_info.get(f\"ISBN:{isbn}\", {}).get(\"details\")\n",
    "            if book is None:\n",
    "                continue\n",
    "            title = book.get(\"title\", \"N/A\")\n",
    "            desc = book.get(\"description\", \"No description available\")\n",
    "            if isinstance(desc, dict):\n",
    "                description = desc.get(\"value\", \"No description available\")\n",
    "            else:\n",
    "                description = desc\n",
    "            category = list(set([item.strip() for subject in book.get(\"subjects\", []) for item in subject.split(\"--\")])) if \"subjects\" in book else \"N/A\"\n",
    "            \n",
    "            book_data3.append({\n",
    "                \"ISBN\": isbn,\n",
    "                \"Title\": title,\n",
    "                \"Description\": description,\n",
    "                \"Category\": category\n",
    "            })\n",
    "    \n",
    "    # Sleep to avoid hitting rate limits\n",
    "    time.sleep(1)  # 1 second delay between batches\n",
    "\n",
    "# Convert the results into a pandas DataFrame\n",
    "result_df3 = pd.DataFrame(book_data3)\n",
    "\n",
    "# Save the results to a CSV file\n",
    "result_df3.to_csv(\"books_info3.csv\", index=False)\n",
    "\n",
    "print(\"Batch API call complete and saved to CSV.\")"
   ]
  },
  {
   "cell_type": "code",
   "execution_count": 326,
   "id": "498acbb6-121f-47f3-8cbd-a955ab2b91e4",
   "metadata": {},
   "outputs": [
    {
     "data": {
      "text/plain": [
       "1828"
      ]
     },
     "execution_count": 326,
     "metadata": {},
     "output_type": "execute_result"
    }
   ],
   "source": [
    "(result_df3[\"Category\"] == \"N/A\").sum()"
   ]
  },
  {
   "cell_type": "code",
   "execution_count": 342,
   "id": "2856e551-6194-40cb-bc22-fb06eabc0689",
   "metadata": {
    "scrolled": true
   },
   "outputs": [
    {
     "name": "stdout",
     "output_type": "stream",
     "text": [
      "Missing Description:  14374\n",
      "Missing Category:  6199\n",
      "Total books:  17347\n"
     ]
    }
   ],
   "source": [
    "books_info = pd.concat([result_df1, result_df2, result_df3], ignore_index = True)\n",
    "print(\"Missing Description: \", (books_info[\"Description\"] == \"No description available\").sum())\n",
    "print(\"Missing Category: \", (books_info[\"Category\"] == \"N/A\").sum())\n",
    "print(\"Total books: \", books_info[\"ISBN\"].count())"
   ]
  },
  {
   "cell_type": "code",
   "execution_count": 346,
   "id": "12ef1501-7c1c-4f2c-a6e3-8b8847b8e277",
   "metadata": {
    "scrolled": true
   },
   "outputs": [
    {
     "data": {
      "text/html": [
       "<div>\n",
       "<style scoped>\n",
       "    .dataframe tbody tr th:only-of-type {\n",
       "        vertical-align: middle;\n",
       "    }\n",
       "\n",
       "    .dataframe tbody tr th {\n",
       "        vertical-align: top;\n",
       "    }\n",
       "\n",
       "    .dataframe thead th {\n",
       "        text-align: right;\n",
       "    }\n",
       "</style>\n",
       "<table border=\"1\" class=\"dataframe\">\n",
       "  <thead>\n",
       "    <tr style=\"text-align: right;\">\n",
       "      <th></th>\n",
       "      <th>ISBN</th>\n",
       "      <th>Title</th>\n",
       "      <th>Description</th>\n",
       "      <th>Category</th>\n",
       "    </tr>\n",
       "  </thead>\n",
       "  <tbody>\n",
       "    <tr>\n",
       "      <th>3</th>\n",
       "      <td>0452264464</td>\n",
       "      <td>Beloved</td>\n",
       "      <td>No description available</td>\n",
       "      <td>N/A</td>\n",
       "    </tr>\n",
       "    <tr>\n",
       "      <th>7</th>\n",
       "      <td>0345402871</td>\n",
       "      <td>Airframe</td>\n",
       "      <td>Three passengers are dead. Fifty-six are injur...</td>\n",
       "      <td>N/A</td>\n",
       "    </tr>\n",
       "    <tr>\n",
       "      <th>8</th>\n",
       "      <td>0345417623</td>\n",
       "      <td>Timeline</td>\n",
       "      <td>In an Arizona desert, a man wanders in a daze,...</td>\n",
       "      <td>N/A</td>\n",
       "    </tr>\n",
       "    <tr>\n",
       "      <th>12</th>\n",
       "      <td>0446310786</td>\n",
       "      <td>To Kill a Mockingbird</td>\n",
       "      <td>No description available</td>\n",
       "      <td>N/A</td>\n",
       "    </tr>\n",
       "    <tr>\n",
       "      <th>14</th>\n",
       "      <td>0060168013</td>\n",
       "      <td>Pigs in heaven</td>\n",
       "      <td>No description available</td>\n",
       "      <td>N/A</td>\n",
       "    </tr>\n",
       "  </tbody>\n",
       "</table>\n",
       "</div>"
      ],
      "text/plain": [
       "          ISBN                  Title  \\\n",
       "3   0452264464                Beloved   \n",
       "7   0345402871               Airframe   \n",
       "8   0345417623               Timeline   \n",
       "12  0446310786  To Kill a Mockingbird   \n",
       "14  0060168013         Pigs in heaven   \n",
       "\n",
       "                                          Description Category  \n",
       "3                            No description available      N/A  \n",
       "7   Three passengers are dead. Fifty-six are injur...      N/A  \n",
       "8   In an Arizona desert, a man wanders in a daze,...      N/A  \n",
       "12                           No description available      N/A  \n",
       "14                           No description available      N/A  "
      ]
     },
     "execution_count": 346,
     "metadata": {},
     "output_type": "execute_result"
    }
   ],
   "source": [
    "missing_category = books_info[books_info[\"Category\"] == \"N/A\"]\n",
    "missing_category.head()"
   ]
  },
  {
   "cell_type": "code",
   "execution_count": 392,
   "id": "7a64450f-d260-4958-a1e4-617c54e5120f",
   "metadata": {},
   "outputs": [
    {
     "data": {
      "text/plain": [
       "62"
      ]
     },
     "execution_count": 392,
     "metadata": {},
     "output_type": "execute_result"
    }
   ],
   "source": [
    "# check if calling the api differently will give another format with categories\n",
    "missing_cat_isbn = missing_category[\"ISBN\"].tolist()\n",
    "\n",
    "batch_size = 100\n",
    "batch_missing_cat = [missing_cat_isbn[i:i + batch_size] for i in range(0, len(missing_cat_isbn), batch_size)]\n",
    "len(batch_missing_cat)"
   ]
  },
  {
   "cell_type": "code",
   "execution_count": 394,
   "id": "dbeddab8-7766-4810-a3f7-26c9036a33b6",
   "metadata": {},
   "outputs": [
    {
     "name": "stdout",
     "output_type": "stream",
     "text": [
      "Batch API call complete and saved to CSV.\n"
     ]
    }
   ],
   "source": [
    "book_data_missing_cat = []\n",
    "\n",
    "# Loop through each batch\n",
    "for batch in batch_missing_cat:\n",
    "    # Prepare the list of ISBNs for the batch request\n",
    "    isbn_batch = \",\".join([f\"ISBN:{isbn}\" for isbn in batch])\n",
    "    \n",
    "    url = f\"https://openlibrary.org/api/books?bibkeys={isbn_batch}&format=json&jscmd=data\"\n",
    "    \n",
    "    # Make the batch request\n",
    "    response = requests.get(url)\n",
    "    \n",
    "    # Check if the response is valid\n",
    "    if response.status_code == 200:\n",
    "        book_info = response.json()\n",
    "        # Extract data for each ISBN in the batch\n",
    "        for isbn in batch:\n",
    "            book = book_info.get(f\"ISBN:{isbn}\", {})\n",
    "            if book is None:\n",
    "                continue\n",
    "            category = [subject[\"name\"] for subject in book.get(\"subjects\", [])] if \"subjects\" in book else \"N/A\"\n",
    "            \n",
    "            book_data_missing_cat.append({\n",
    "                \"ISBN\": isbn,\n",
    "                \"Category\": category\n",
    "            })\n",
    "    \n",
    "# Sleep to avoid hitting rate limits (Optional, adjust time accordingly)\n",
    "time.sleep(1)  # 1 second delay between requests\n",
    "\n",
    "# Convert the results into a pandas DataFrame\n",
    "result_df4 = pd.DataFrame(book_data_missing_cat)\n",
    "\n",
    "# Save the results to a CSV file\n",
    "result_df4.to_csv(\"books_info_missing_cat.csv\", index=False)\n",
    "\n",
    "print(\"Batch API call complete and saved to CSV.\")"
   ]
  },
  {
   "cell_type": "code",
   "execution_count": 388,
   "id": "d5b6b61a-d9a0-4048-b82e-d1bdebeaac93",
   "metadata": {},
   "outputs": [],
   "source": [
    "result_df4 = pd.DataFrame(book_data_missing_cat)"
   ]
  },
  {
   "cell_type": "code",
   "execution_count": 396,
   "id": "9b06503f-aba4-4b78-b180-ff1800b61ee5",
   "metadata": {
    "scrolled": true
   },
   "outputs": [
    {
     "data": {
      "text/html": [
       "<div>\n",
       "<style scoped>\n",
       "    .dataframe tbody tr th:only-of-type {\n",
       "        vertical-align: middle;\n",
       "    }\n",
       "\n",
       "    .dataframe tbody tr th {\n",
       "        vertical-align: top;\n",
       "    }\n",
       "\n",
       "    .dataframe thead th {\n",
       "        text-align: right;\n",
       "    }\n",
       "</style>\n",
       "<table border=\"1\" class=\"dataframe\">\n",
       "  <thead>\n",
       "    <tr style=\"text-align: right;\">\n",
       "      <th></th>\n",
       "      <th>ISBN</th>\n",
       "      <th>Category</th>\n",
       "    </tr>\n",
       "  </thead>\n",
       "  <tbody>\n",
       "    <tr>\n",
       "      <th>0</th>\n",
       "      <td>0452264464</td>\n",
       "      <td>[African American History, Ohio, History, 19th...</td>\n",
       "    </tr>\n",
       "    <tr>\n",
       "      <th>1</th>\n",
       "      <td>0345402871</td>\n",
       "      <td>[air safety, media relations, investigative jo...</td>\n",
       "    </tr>\n",
       "    <tr>\n",
       "      <th>2</th>\n",
       "      <td>0345417623</td>\n",
       "      <td>[Fiction, Hundertja hriger Krieg, Wissenschaft...</td>\n",
       "    </tr>\n",
       "    <tr>\n",
       "      <th>3</th>\n",
       "      <td>0446310786</td>\n",
       "      <td>[fiction, fiction classics, contemporary ficti...</td>\n",
       "    </tr>\n",
       "    <tr>\n",
       "      <th>4</th>\n",
       "      <td>0060168013</td>\n",
       "      <td>[Literature, Cherokee Indians, Orphans, Humoro...</td>\n",
       "    </tr>\n",
       "    <tr>\n",
       "      <th>...</th>\n",
       "      <td>...</td>\n",
       "      <td>...</td>\n",
       "    </tr>\n",
       "    <tr>\n",
       "      <th>6194</th>\n",
       "      <td>082173900X</td>\n",
       "      <td>[Fiction, romance, historical, general]</td>\n",
       "    </tr>\n",
       "    <tr>\n",
       "      <th>6195</th>\n",
       "      <td>3404143035</td>\n",
       "      <td>N/A</td>\n",
       "    </tr>\n",
       "    <tr>\n",
       "      <th>6196</th>\n",
       "      <td>0449209202</td>\n",
       "      <td>[Pastoral psychology, Psychology, applied, App...</td>\n",
       "    </tr>\n",
       "    <tr>\n",
       "      <th>6197</th>\n",
       "      <td>2209014026</td>\n",
       "      <td>N/A</td>\n",
       "    </tr>\n",
       "    <tr>\n",
       "      <th>6198</th>\n",
       "      <td>1570031843</td>\n",
       "      <td>[Fiction, general]</td>\n",
       "    </tr>\n",
       "  </tbody>\n",
       "</table>\n",
       "<p>6199 rows × 2 columns</p>\n",
       "</div>"
      ],
      "text/plain": [
       "            ISBN                                           Category\n",
       "0     0452264464  [African American History, Ohio, History, 19th...\n",
       "1     0345402871  [air safety, media relations, investigative jo...\n",
       "2     0345417623  [Fiction, Hundertja hriger Krieg, Wissenschaft...\n",
       "3     0446310786  [fiction, fiction classics, contemporary ficti...\n",
       "4     0060168013  [Literature, Cherokee Indians, Orphans, Humoro...\n",
       "...          ...                                                ...\n",
       "6194  082173900X            [Fiction, romance, historical, general]\n",
       "6195  3404143035                                                N/A\n",
       "6196  0449209202  [Pastoral psychology, Psychology, applied, App...\n",
       "6197  2209014026                                                N/A\n",
       "6198  1570031843                                 [Fiction, general]\n",
       "\n",
       "[6199 rows x 2 columns]"
      ]
     },
     "execution_count": 396,
     "metadata": {},
     "output_type": "execute_result"
    }
   ],
   "source": [
    "result_df4"
   ]
  },
  {
   "cell_type": "code",
   "execution_count": 398,
   "id": "652e6d85-578d-4c1d-8d36-6ef9fe7eaac3",
   "metadata": {},
   "outputs": [],
   "source": [
    "isbn_cat = dict(zip(result_df4[\"ISBN\"], result_df4[\"Category\"]))\n",
    "\n",
    "books_info[\"Category\"] = books_info[\"ISBN\"].map(isbn_cat).fillna(books_info[\"Category\"])"
   ]
  },
  {
   "cell_type": "code",
   "execution_count": 400,
   "id": "d2572c61-56f4-4bfe-a5ae-4d2767d1decd",
   "metadata": {
    "scrolled": true
   },
   "outputs": [
    {
     "name": "stdout",
     "output_type": "stream",
     "text": [
      "Missing Description:  14374\n",
      "Missing Category:  730\n",
      "Total books:  17347\n"
     ]
    }
   ],
   "source": [
    "print(\"Missing Description: \", (books_info[\"Description\"] == \"No description available\").sum())\n",
    "print(\"Missing Category: \", (books_info[\"Category\"] == \"N/A\").sum())\n",
    "print(\"Total books: \", books_info[\"ISBN\"].count())"
   ]
  },
  {
   "cell_type": "code",
   "execution_count": 402,
   "id": "d95faa20-d57d-4d87-966e-1f4bd8721688",
   "metadata": {},
   "outputs": [],
   "source": [
    "books_info.to_csv(\"books_info_updated.csv\", index = False)"
   ]
  },
  {
   "cell_type": "code",
   "execution_count": 404,
   "id": "4d23ce64-2950-4292-92d4-cdc046492933",
   "metadata": {},
   "outputs": [
    {
     "data": {
      "text/html": [
       "<div>\n",
       "<style scoped>\n",
       "    .dataframe tbody tr th:only-of-type {\n",
       "        vertical-align: middle;\n",
       "    }\n",
       "\n",
       "    .dataframe tbody tr th {\n",
       "        vertical-align: top;\n",
       "    }\n",
       "\n",
       "    .dataframe thead th {\n",
       "        text-align: right;\n",
       "    }\n",
       "</style>\n",
       "<table border=\"1\" class=\"dataframe\">\n",
       "  <thead>\n",
       "    <tr style=\"text-align: right;\">\n",
       "      <th></th>\n",
       "      <th>ISBN</th>\n",
       "      <th>Title</th>\n",
       "      <th>Description</th>\n",
       "      <th>Category</th>\n",
       "    </tr>\n",
       "  </thead>\n",
       "  <tbody>\n",
       "    <tr>\n",
       "      <th>0</th>\n",
       "      <td>0060973129</td>\n",
       "      <td>Decision in Normandy</td>\n",
       "      <td>No description available</td>\n",
       "      <td>['Normandy (France)', 'France', 'Campaigns', '...</td>\n",
       "    </tr>\n",
       "    <tr>\n",
       "      <th>1</th>\n",
       "      <td>0393045218</td>\n",
       "      <td>The mummies of Ürümchi</td>\n",
       "      <td>In the museums of Urumchi, the wind-swept regi...</td>\n",
       "      <td>['China', 'Antiquities', 'Mummies', 'Bronze ag...</td>\n",
       "    </tr>\n",
       "    <tr>\n",
       "      <th>2</th>\n",
       "      <td>0425176428</td>\n",
       "      <td>What if?</td>\n",
       "      <td>No description available</td>\n",
       "      <td>['Imaginary wars and battles.', 'Imaginary his...</td>\n",
       "    </tr>\n",
       "    <tr>\n",
       "      <th>3</th>\n",
       "      <td>0452264464</td>\n",
       "      <td>Beloved</td>\n",
       "      <td>No description available</td>\n",
       "      <td>['African American History', 'Ohio', 'History'...</td>\n",
       "    </tr>\n",
       "    <tr>\n",
       "      <th>4</th>\n",
       "      <td>0609804618</td>\n",
       "      <td>Our dumb century</td>\n",
       "      <td>No description available</td>\n",
       "      <td>['American wit and humor', 'Headlines', 'Humor...</td>\n",
       "    </tr>\n",
       "  </tbody>\n",
       "</table>\n",
       "</div>"
      ],
      "text/plain": [
       "         ISBN                     Title  \\\n",
       "0  0060973129      Decision in Normandy   \n",
       "1  0393045218  The mummies of Ürümchi   \n",
       "2  0425176428                  What if?   \n",
       "3  0452264464                   Beloved   \n",
       "4  0609804618          Our dumb century   \n",
       "\n",
       "                                         Description  \\\n",
       "0                           No description available   \n",
       "1  In the museums of Urumchi, the wind-swept regi...   \n",
       "2                           No description available   \n",
       "3                           No description available   \n",
       "4                           No description available   \n",
       "\n",
       "                                            Category  \n",
       "0  ['Normandy (France)', 'France', 'Campaigns', '...  \n",
       "1  ['China', 'Antiquities', 'Mummies', 'Bronze ag...  \n",
       "2  ['Imaginary wars and battles.', 'Imaginary his...  \n",
       "3  ['African American History', 'Ohio', 'History'...  \n",
       "4  ['American wit and humor', 'Headlines', 'Humor...  "
      ]
     },
     "execution_count": 404,
     "metadata": {},
     "output_type": "execute_result"
    }
   ],
   "source": [
    "item_info = pd.read_csv(\"books_info_updated.csv\")\n",
    "item_info.head()"
   ]
  },
  {
   "cell_type": "code",
   "execution_count": null,
   "id": "bc29c608-924a-401b-a6bc-92774b34feae",
   "metadata": {},
   "outputs": [],
   "source": []
  }
 ],
 "metadata": {
  "kernelspec": {
   "display_name": "Python [conda env:base] *",
   "language": "python",
   "name": "conda-base-py"
  },
  "language_info": {
   "codemirror_mode": {
    "name": "ipython",
    "version": 3
   },
   "file_extension": ".py",
   "mimetype": "text/x-python",
   "name": "python",
   "nbconvert_exporter": "python",
   "pygments_lexer": "ipython3",
   "version": "3.12.7"
  }
 },
 "nbformat": 4,
 "nbformat_minor": 5
}
