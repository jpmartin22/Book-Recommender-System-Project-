{
 "cells": [
  {
   "cell_type": "code",
   "execution_count": 1,
   "metadata": {},
   "outputs": [
    {
     "name": "stdout",
     "output_type": "stream",
     "text": [
      "✅ book_ratings.dat → book_ratings.csv | Rows: 62656\n",
      "✅ book_history.dat → book_history.csv | Rows: 272678\n",
      "✅ items_info.dat → items_info.csv | Rows: 16411\n",
      "✅ users_info.dat → users_info.csv | Rows: 2946\n"
     ]
    }
   ],
   "source": [
    "import csv\n",
    "\n",
    "# Define all file configs: input, output, and expected column count\n",
    "files = [\n",
    "    {\n",
    "        \"input\": \"book_ratings.dat\",\n",
    "        \"output\": \"book_ratings.csv\",\n",
    "        \"columns\": [\"user\", \"item\", \"rating\"],\n",
    "        \"expected_columns\": 3\n",
    "    },\n",
    "    {\n",
    "        \"input\": \"book_history.dat\",\n",
    "        \"output\": \"book_history.csv\",\n",
    "        \"columns\": [\"user\", \"item\", \"accessed\"],\n",
    "        \"expected_columns\": 3\n",
    "    },\n",
    "    {\n",
    "        \"input\": \"items_info.dat\",\n",
    "        \"output\": \"items_info.csv\",\n",
    "        \"columns\": [\n",
    "            \"Book_ID\", \"ISBN\", \"Book-Title\", \"Book-Author\",\n",
    "            \"Year-Of-Publication\", \"Publisher\",\n",
    "            \"Image-URL-S\", \"Image-URL-M\", \"Image-URL-L\"\n",
    "        ],\n",
    "        \"expected_columns\": 9\n",
    "    },\n",
    "    {\n",
    "        \"input\": \"users_info.dat\",\n",
    "        \"output\": \"users_info.csv\",\n",
    "        \"columns\": [\"User-ID\", \"Location\", \"Age\"],\n",
    "        \"expected_columns\": 3\n",
    "    }\n",
    "]\n",
    "\n",
    "# Process each file\n",
    "for f in files:\n",
    "    parsed_rows = []\n",
    "\n",
    "    with open(f[\"input\"], \"r\", encoding=\"latin-1\") as infile:\n",
    "        lines = infile.readlines()\n",
    "\n",
    "    # Skip header and process each line\n",
    "    for line in lines[1:]:\n",
    "        parts = line.strip().split(\"\\t\")\n",
    "        if len(parts) == f[\"expected_columns\"]:\n",
    "            parsed_rows.append(parts)\n",
    "\n",
    "    # Write cleaned CSV\n",
    "    with open(f[\"output\"], \"w\", newline=\"\", encoding=\"utf-8\") as outfile:\n",
    "        writer = csv.writer(outfile)\n",
    "        writer.writerow(f[\"columns\"])\n",
    "        writer.writerows(parsed_rows)\n",
    "\n",
    "    print(f\"✅ {f['input']} → {f['output']} | Rows: {len(parsed_rows)}\")"
   ]
  },
  {
   "cell_type": "code",
   "execution_count": 2,
   "metadata": {},
   "outputs": [
    {
     "name": "stderr",
     "output_type": "stream",
     "text": [
      "C:\\Users\\ASUS\\anaconda3\\lib\\site-packages\\pandas\\core\\computation\\expressions.py:20: UserWarning: Pandas requires version '2.7.3' or newer of 'numexpr' (version '2.7.1' currently installed).\n",
      "  from pandas.core.computation.check import NUMEXPR_INSTALLED\n"
     ]
    },
    {
     "name": "stdout",
     "output_type": "stream",
     "text": [
      "📘 book_ratings.csv:\n",
      "   user  item  rating\n",
      "0     1  6264     7.0\n",
      "1     1  4350     7.0\n",
      "2     1  6252     5.0\n",
      "3     1   202     9.0\n",
      "4     1  6266     6.0 \n",
      "\n",
      "📂 book_history.csv:\n",
      "   user  item  accessed\n",
      "0     1   152         1\n",
      "1     1   153         1\n",
      "2     1  2176         1\n",
      "3     1   154         1\n",
      "4     1   734         1 \n",
      "\n",
      "📚 items_info.csv:\n",
      "   Book_ID        ISBN                                         Book-Title  \\\n",
      "0        1  0060973129                               Decision in Normandy   \n",
      "1        3  0425176428  What If?: The World's Foremost Military Histor...   \n",
      "2        4  0452264464               Beloved (Plume Contemporary Fiction)   \n",
      "3        5  0609804618  Our Dumb Century: The Onion Presents 100 Years...   \n",
      "4        7  1879384493  If I'd Known Then What I Know Now: Why Not Lea...   \n",
      "\n",
      "     Book-Author  Year-Of-Publication                 Publisher  \\\n",
      "0   Carlo D'Este                 1991           HarperPerennial   \n",
      "1  Robert Cowley                 2000  Berkley Publishing Group   \n",
      "2  Toni Morrison                 1994                     Plume   \n",
      "3      The Onion                 1999        Three Rivers Press   \n",
      "4  J. R. Parrish                 2003             Cypress House   \n",
      "\n",
      "                                         Image-URL-S  \\\n",
      "0  http://images.amazon.com/images/P/0060973129.0...   \n",
      "1  http://images.amazon.com/images/P/0425176428.0...   \n",
      "2  http://images.amazon.com/images/P/0452264464.0...   \n",
      "3  http://images.amazon.com/images/P/0609804618.0...   \n",
      "4  http://images.amazon.com/images/P/1879384493.0...   \n",
      "\n",
      "                                         Image-URL-M  \\\n",
      "0  http://images.amazon.com/images/P/0060973129.0...   \n",
      "1  http://images.amazon.com/images/P/0425176428.0...   \n",
      "2  http://images.amazon.com/images/P/0452264464.0...   \n",
      "3  http://images.amazon.com/images/P/0609804618.0...   \n",
      "4  http://images.amazon.com/images/P/1879384493.0...   \n",
      "\n",
      "                                         Image-URL-L  \n",
      "0  http://images.amazon.com/images/P/0060973129.0...  \n",
      "1  http://images.amazon.com/images/P/0425176428.0...  \n",
      "2  http://images.amazon.com/images/P/0452264464.0...  \n",
      "3  http://images.amazon.com/images/P/0609804618.0...  \n",
      "4  http://images.amazon.com/images/P/1879384493.0...   \n",
      "\n",
      "👥 users_info.csv:\n",
      "   User-ID                     Location  Age\n",
      "0        1  minneapolis, minnesota, usa   24\n",
      "1        2   san diego, california, usa   20\n",
      "2        3      novinger, missouri, usa   16\n",
      "3        4      sonoma, california, usa   34\n",
      "4        5    berkeley, california, usa   23\n"
     ]
    }
   ],
   "source": [
    "import pandas as pd\n",
    "\n",
    "# Load and preview each CSV\n",
    "ratings = pd.read_csv(\"book_ratings.csv\")\n",
    "print(\"📘 book_ratings.csv:\")\n",
    "print(ratings.head(), \"\\n\")\n",
    "\n",
    "history = pd.read_csv(\"book_history.csv\")\n",
    "print(\"📂 book_history.csv:\")\n",
    "print(history.head(), \"\\n\")\n",
    "\n",
    "items = pd.read_csv(\"items_info.csv\")\n",
    "print(\"📚 items_info.csv:\")\n",
    "print(items.head(), \"\\n\")\n",
    "\n",
    "users = pd.read_csv(\"users_info.csv\")\n",
    "print(\"👥 users_info.csv:\")\n",
    "print(users.head())\n"
   ]
  },
  {
   "cell_type": "code",
   "execution_count": 3,
   "metadata": {},
   "outputs": [
    {
     "name": "stdout",
     "output_type": "stream",
     "text": [
      "✅ Cleaned Shapes:\n",
      "Ratings: (62656, 3)\n",
      "History: (272678, 3)\n",
      "Items: (16411, 9)\n",
      "Users: (2946, 3)\n",
      "\n",
      "🔹 Ratings (head):\n",
      "   user  item  rating\n",
      "0     1  6264     7.0\n",
      "1     1  4350     7.0\n",
      "2     1  6252     5.0\n",
      "3     1   202     9.0\n",
      "4     1  6266     6.0\n",
      "\n",
      "🔹 History (head):\n",
      "   user  item  accessed\n",
      "0     1   152         1\n",
      "1     1   153         1\n",
      "2     1  2176         1\n",
      "3     1   154         1\n",
      "4     1   734         1\n",
      "\n",
      "🔹 Items (head):\n",
      "   Book_ID        ISBN                                         Book-Title  \\\n",
      "0        1  0060973129                               Decision in Normandy   \n",
      "1        3  0425176428  What If?: The World's Foremost Military Histor...   \n",
      "2        4  0452264464               Beloved (Plume Contemporary Fiction)   \n",
      "3        5  0609804618  Our Dumb Century: The Onion Presents 100 Years...   \n",
      "4        7  1879384493  If I'd Known Then What I Know Now: Why Not Lea...   \n",
      "\n",
      "     Book-Author  Year-Of-Publication  \n",
      "0   Carlo D'Este                 1991  \n",
      "1  Robert Cowley                 2000  \n",
      "2  Toni Morrison                 1994  \n",
      "3      The Onion                 1999  \n",
      "4  J. R. Parrish                 2003  \n",
      "\n",
      "🔹 Users (head):\n",
      "   User-ID                     Location   Age\n",
      "0        1  minneapolis, minnesota, usa  24.0\n",
      "1        2   san diego, california, usa  20.0\n",
      "2        3      novinger, missouri, usa  16.0\n",
      "3        4      sonoma, california, usa  34.0\n",
      "4        5    berkeley, california, usa  23.0\n"
     ]
    }
   ],
   "source": [
    "import pandas as pd\n",
    "import numpy as np\n",
    "\n",
    "# Load datasets\n",
    "ratings = pd.read_csv('book_ratings.csv')\n",
    "history = pd.read_csv('book_history.csv')\n",
    "items = pd.read_csv('items_info.csv')\n",
    "users = pd.read_csv('users_info.csv')\n",
    "\n",
    "# 🔍 Step 1: Clean Ratings\n",
    "ratings.drop_duplicates(inplace=True)\n",
    "ratings = ratings.dropna(subset=['user', 'item', 'rating'])\n",
    "\n",
    "# 🔍 Step 2: Clean History\n",
    "history.drop_duplicates(inplace=True)\n",
    "history = history.dropna(subset=['user', 'item', 'accessed'])\n",
    "\n",
    "# 🔍 Step 3: Clean Items\n",
    "items.drop_duplicates(subset=['Book_ID', 'ISBN'], inplace=True)\n",
    "\n",
    "# Fix types\n",
    "items['Year-Of-Publication'] = pd.to_numeric(items['Year-Of-Publication'], errors='coerce')\n",
    "items['Year-Of-Publication'] = items['Year-Of-Publication'].fillna(0).astype(int)\n",
    "items['Publisher'] = items['Publisher'].fillna('Unknown')\n",
    "items['Book-Title'] = items['Book-Title'].fillna('Unknown')\n",
    "items['Book-Author'] = items['Book-Author'].fillna('Unknown')\n",
    "\n",
    "# 🔍 Step 4: Clean Users\n",
    "users.drop_duplicates(inplace=True)\n",
    "users['Age'] = pd.to_numeric(users['Age'], errors='coerce')\n",
    "users.loc[(users['Age'] < 10) | (users['Age'] > 90), 'Age'] = np.nan\n",
    "\n",
    "# 🧾 Step 5: Print final structure\n",
    "print(\"✅ Cleaned Shapes:\")\n",
    "print(\"Ratings:\", ratings.shape)\n",
    "print(\"History:\", history.shape)\n",
    "print(\"Items:\", items.shape)\n",
    "print(\"Users:\", users.shape)\n",
    "\n",
    "print(\"\\n🔹 Ratings (head):\")\n",
    "print(ratings.head())\n",
    "\n",
    "print(\"\\n🔹 History (head):\")\n",
    "print(history.head())\n",
    "\n",
    "print(\"\\n🔹 Items (head):\")\n",
    "print(items[['Book_ID', 'ISBN', 'Book-Title', 'Book-Author', 'Year-Of-Publication']].head())\n",
    "\n",
    "print(\"\\n🔹 Users (head):\")\n",
    "print(users.head())\n"
   ]
  },
  {
   "cell_type": "markdown",
   "metadata": {},
   "source": [
    "## 📊 Exploratory Data Analysis (EDA)\n",
    "### ✅ Step 1: Import Libraries"
   ]
  },
  {
   "cell_type": "code",
   "execution_count": 4,
   "metadata": {},
   "outputs": [],
   "source": [
    "import pandas as pd\n",
    "import matplotlib.pyplot as plt\n",
    "import seaborn as sns"
   ]
  },
  {
   "cell_type": "markdown",
   "metadata": {},
   "source": [
    "### ✅ Step 2: Ratings Distribution\n"
   ]
  },
  {
   "cell_type": "code",
   "execution_count": 5,
   "metadata": {},
   "outputs": [
    {
     "data": {
      "image/png": "[encoded data removed]",
      "text/plain": [
       "<Figure size 576x288 with 1 Axes>"
      ]
     },
     "metadata": {
      "needs_background": "light"
     },
     "output_type": "display_data"
    }
   ],
   "source": [
    "plt.figure(figsize=(8, 4))\n",
    "sns.histplot(ratings['rating'], bins=10, kde=False)\n",
    "plt.title(\"Distribution of Ratings\")\n",
    "plt.xlabel(\"Rating\")\n",
    "plt.ylabel(\"Count\")\n",
    "plt.show()\n"
   ]
  },
  {
   "cell_type": "markdown",
   "metadata": {},
   "source": [
    "### ✅ Step 3: Top Rated Books (by count)"
   ]
  },
  {
   "cell_type": "code",
   "execution_count": 6,
   "metadata": {},
   "outputs": [
    {
     "data": {
      "image/png": "[encoded data removed]",
      "text/plain": [
       "<Figure size 720x432 with 1 Axes>"
      ]
     },
     "metadata": {
      "needs_background": "light"
     },
     "output_type": "display_data"
    }
   ],
   "source": [
    "top_rated_books = ratings['item'].value_counts().head(10)\n",
    "top_rated_info = items[items['Book_ID'].isin(top_rated_books.index)][['Book_ID', 'Book-Title']].set_index('Book_ID')\n",
    "top_rated_info['num_ratings'] = top_rated_books\n",
    "top_rated_info.sort_values('num_ratings', ascending=True).plot(kind='barh', figsize=(10, 6), legend=False)\n",
    "plt.title(\"Top 10 Most Rated Books\")\n",
    "plt.xlabel(\"Number of Ratings\")\n",
    "plt.show()\n"
   ]
  },
  {
   "cell_type": "markdown",
   "metadata": {},
   "source": [
    "### ✅ Step 4: User Activity (Number of Ratings per User)"
   ]
  },
  {
   "cell_type": "code",
   "execution_count": 7,
   "metadata": {},
   "outputs": [
    {
     "data": {
      "image/png": "[encoded data removed]",
      "text/plain": [
       "<Figure size 720x288 with 1 Axes>"
      ]
     },
     "metadata": {
      "needs_background": "light"
     },
     "output_type": "display_data"
    }
   ],
   "source": [
    "user_activity = ratings['user'].value_counts()\n",
    "plt.figure(figsize=(10, 4))\n",
    "sns.histplot(user_activity, bins=50)\n",
    "plt.title(\"User Rating Activity\")\n",
    "plt.xlabel(\"Number of Ratings per User\")\n",
    "plt.ylabel(\"Number of Users\")\n",
    "plt.xlim(0, 100)\n",
    "plt.show()"
   ]
  },
  {
   "cell_type": "markdown",
   "metadata": {},
   "source": [
    "### ✅ Step 5: Age Distribution of Users"
   ]
  },
  {
   "cell_type": "code",
   "execution_count": 8,
   "metadata": {},
   "outputs": [
    {
     "data": {
      "image/png": "[encoded data removed]",
      "text/plain": [
       "<Figure size 576x288 with 1 Axes>"
      ]
     },
     "metadata": {
      "needs_background": "light"
     },
     "output_type": "display_data"
    }
   ],
   "source": [
    "plt.figure(figsize=(8, 4))\n",
    "sns.histplot(users['Age'].dropna(), bins=30)\n",
    "plt.title(\"Age Distribution of Users\")\n",
    "plt.xlabel(\"Age\")\n",
    "plt.ylabel(\"Count\")\n",
    "plt.show()\n"
   ]
  },
  {
   "cell_type": "markdown",
   "metadata": {},
   "source": [
    "### ✅ Step 6: Most Common Publishers "
   ]
  },
  {
   "cell_type": "code",
   "execution_count": 9,
   "metadata": {},
   "outputs": [
    {
     "data": {
      "image/png": "[encoded data removed]",
      "text/plain": [
       "<Figure size 720x288 with 1 Axes>"
      ]
     },
     "metadata": {
      "needs_background": "light"
     },
     "output_type": "display_data"
    }
   ],
   "source": [
    "top_publishers = items['Publisher'].value_counts().head(10)\n",
    "top_publishers.plot(kind='bar', figsize=(10, 4))\n",
    "plt.title(\"Top 10 Publishers\")\n",
    "plt.ylabel(\"Number of Books\")\n",
    "plt.xticks(rotation=45)\n",
    "plt.show()\n"
   ]
  },
  {
   "cell_type": "markdown",
   "metadata": {},
   "source": [
    "### Create the User-Item Matrix for Collaborative Filtering"
   ]
  },
  {
   "cell_type": "code",
   "execution_count": 10,
   "metadata": {},
   "outputs": [
    {
     "name": "stdout",
     "output_type": "stream",
     "text": [
      "🔧 User-Item Matrix shape: (1295, 14684)\n",
      "🔍 Sample User-Item Matrix (sparse):\n",
      "item  1      2      3      4      5      6      7      8      9      10     \\\n",
      "user                                                                         \n",
      "1       NaN    NaN    NaN    NaN    NaN    NaN    NaN    NaN    NaN    NaN   \n",
      "2       NaN    NaN    NaN    NaN    NaN    NaN    NaN    NaN    NaN    NaN   \n",
      "5       NaN    NaN    NaN    NaN    NaN    NaN    NaN    NaN    NaN    NaN   \n",
      "7       NaN    NaN    NaN    NaN    NaN    NaN    NaN    NaN    NaN    NaN   \n",
      "9       NaN    NaN    NaN    NaN    NaN    NaN    NaN    5.0    NaN    NaN   \n",
      "\n",
      "item  ...  17367  17369  17370  17371  17372  17373  17374  17378  17379  \\\n",
      "user  ...                                                                  \n",
      "1     ...    NaN    NaN    NaN    NaN    NaN    NaN    NaN    NaN    NaN   \n",
      "2     ...    NaN    NaN    NaN    NaN    NaN    NaN    NaN    NaN    NaN   \n",
      "5     ...    NaN    NaN    NaN    NaN    NaN    NaN    NaN    NaN    NaN   \n",
      "7     ...    NaN    NaN    NaN    NaN    NaN    NaN    NaN    NaN    NaN   \n",
      "9     ...    NaN    NaN    NaN    NaN    NaN    NaN    NaN    NaN    NaN   \n",
      "\n",
      "item  17384  \n",
      "user         \n",
      "1       NaN  \n",
      "2       NaN  \n",
      "5       NaN  \n",
      "7       NaN  \n",
      "9       NaN  \n",
      "\n",
      "[5 rows x 14684 columns]\n"
     ]
    }
   ],
   "source": [
    "# Create user-item rating matrix (users as rows, items as columns)\n",
    "user_item_matrix = ratings.pivot(index='user', columns='item', values='rating')\n",
    "\n",
    "print(\"🔧 User-Item Matrix shape:\", user_item_matrix.shape)\n",
    "print(\"🔍 Sample User-Item Matrix (sparse):\")\n",
    "print(user_item_matrix.head())\n"
   ]
  },
  {
   "cell_type": "markdown",
   "metadata": {},
   "source": [
    "## 🔧 Step-by-Step: User-Based Collaborative Filtering\n",
    "### ✅ Goal:\n",
    "* Recommend books to a user based on ratings given by similar users.\n",
    "\n",
    "### 🧩 Step 1: Import Required Libraries"
   ]
  },
  {
   "cell_type": "code",
   "execution_count": 11,
   "metadata": {},
   "outputs": [],
   "source": [
    "import pandas as pd\n",
    "from sklearn.metrics.pairwise import cosine_similarity\n",
    "from sklearn.preprocessing import StandardScaler\n",
    "import numpy as np\n"
   ]
  },
  {
   "cell_type": "markdown",
   "metadata": {},
   "source": [
    "### 🧩 Step 2: Create User-Item Rating Matrix"
   ]
  },
  {
   "cell_type": "code",
   "execution_count": 12,
   "metadata": {},
   "outputs": [],
   "source": [
    "user_item_matrix = ratings.pivot(index='user', columns='item', values='rating')"
   ]
  },
  {
   "cell_type": "markdown",
   "metadata": {},
   "source": [
    "### 🧩 Step 3: Compute User-User Similarity (Cosine)"
   ]
  },
  {
   "cell_type": "code",
   "execution_count": 13,
   "metadata": {},
   "outputs": [],
   "source": [
    "from sklearn.metrics.pairwise import cosine_similarity\n",
    "\n",
    "# Replace NaN with 0 temporarily just to compute similarity\n",
    "user_similarity = cosine_similarity(user_item_matrix.fillna(0))\n",
    "user_similarity_df = pd.DataFrame(user_similarity, index=user_item_matrix.index, columns=user_item_matrix.index)\n"
   ]
  },
  {
   "cell_type": "markdown",
   "metadata": {},
   "source": [
    "### 🧩 Step 4: Predict a Missing Rating for a Given User-Item Pair\n",
    "* Use weighted sum of ratings from similar users who rated that item."
   ]
  },
  {
   "cell_type": "code",
   "execution_count": 14,
   "metadata": {},
   "outputs": [],
   "source": [
    "def predict_rating(user_id, item_id, k=5):\n",
    "    # Get users who rated the item\n",
    "    item_ratings = user_item_matrix[item_id].dropna()\n",
    "    if item_ratings.empty:\n",
    "        return np.nan  # No one rated this item\n",
    "\n",
    "    # Similarities of these users to the target user\n",
    "    sim_scores = user_similarity_df.loc[user_id, item_ratings.index]\n",
    "\n",
    "    # Pick top-k similar users\n",
    "    top_k_users = sim_scores.sort_values(ascending=False).head(k)\n",
    "\n",
    "    # Their ratings\n",
    "    top_ratings = item_ratings[top_k_users.index]\n",
    "\n",
    "    # Weighted average\n",
    "    if top_k_users.sum() == 0:\n",
    "        return np.nan  # Avoid division by zero\n",
    "    predicted_rating = np.dot(top_k_users, top_ratings) / top_k_users.sum()\n",
    "\n",
    "    return predicted_rating\n"
   ]
  },
  {
   "cell_type": "markdown",
   "metadata": {},
   "source": [
    "### ✅ 5: Apply the Function to Predict Some Ratings\n"
   ]
  },
  {
   "cell_type": "code",
   "execution_count": 15,
   "metadata": {},
   "outputs": [
    {
     "name": "stdout",
     "output_type": "stream",
     "text": [
      "Predicted rating for User 1 on Item 10: 9.19\n"
     ]
    }
   ],
   "source": [
    "# Predict rating for user 1 and item 10 (only if missing)\n",
    "if pd.isna(user_item_matrix.loc[1, 10]):\n",
    "    pred = predict_rating(1, 10)\n",
    "    print(f\"Predicted rating for User 1 on Item 10: {pred:.2f}\")\n"
   ]
  },
  {
   "cell_type": "code",
   "execution_count": 16,
   "metadata": {},
   "outputs": [
    {
     "name": "stdout",
     "output_type": "stream",
     "text": [
      "User-Based CF RMSE: 1.4998\n"
     ]
    }
   ],
   "source": [
    "from sklearn.model_selection import train_test_split\n",
    "from sklearn.metrics import mean_squared_error\n",
    "import numpy as np\n",
    "\n",
    "# Step 1: Split the ratings DataFrame\n",
    "train_data, test_data = train_test_split(ratings, test_size=0.2, random_state=42)\n",
    "\n",
    "# Step 2: Create the user-item matrix from train data\n",
    "train_matrix = train_data.pivot(index='user', columns='item', values='rating')\n",
    "\n",
    "# Dummy predict function (replace with your UBCF logic)\n",
    "def predict_rating(user_id, item_id, k=5):\n",
    "    # Simple user-based CF example using mean rating of the user\n",
    "    if user_id in train_matrix.index:\n",
    "        user_ratings = train_matrix.loc[user_id]\n",
    "        if not np.isnan(user_ratings.mean()):\n",
    "            return user_ratings.mean()\n",
    "    return np.nan\n",
    "\n",
    "# Step 3: Evaluate predictions\n",
    "preds = []\n",
    "actuals = []\n",
    "\n",
    "for _, row in test_data.iterrows():\n",
    "    user, item, actual = row['user'], row['item'], row['rating']\n",
    "    if user in train_matrix.index and item in train_matrix.columns:\n",
    "        pred = predict_rating(user, item)\n",
    "        if not np.isnan(pred):\n",
    "            preds.append(pred)\n",
    "            actuals.append(actual)\n",
    "\n",
    "# Step 4: Calculate RMSE\n",
    "rmse = np.sqrt(mean_squared_error(actuals, preds))\n",
    "print(f\"User-Based CF RMSE: {rmse:.4f}\")\n"
   ]
  },
  {
   "cell_type": "markdown",
   "metadata": {},
   "source": [
    "### ✅ Step 1: Create Item-User Matrix from Training Data"
   ]
  },
  {
   "cell_type": "code",
   "execution_count": 17,
   "metadata": {},
   "outputs": [],
   "source": [
    "import pandas as pd\n",
    "from sklearn.metrics.pairwise import cosine_similarity\n",
    "from sklearn.metrics import mean_squared_error\n",
    "from math import sqrt\n",
    "from sklearn.model_selection import train_test_split\n",
    "\n",
    "# Load your ratings data if not already loaded\n",
    "# ratings_df = pd.read_csv(\"book_ratings.csv\")\n",
    "\n",
    "# Split into train and test\n",
    "train_data, test_data = train_test_split(ratings, test_size=0.2, random_state=42)\n",
    "\n",
    "# Create item-user matrix from training data\n",
    "item_user_matrix = train_data.pivot_table(index='item', columns='user', values='rating')\n"
   ]
  },
  {
   "cell_type": "markdown",
   "metadata": {},
   "source": [
    "### ✅ Step 2: Compute Item Similarity"
   ]
  },
  {
   "cell_type": "code",
   "execution_count": 18,
   "metadata": {},
   "outputs": [],
   "source": [
    "# Fill missing values with 0 (for similarity computation only)\n",
    "item_user_filled = item_user_matrix.fillna(0)\n",
    "\n",
    "# Compute cosine similarity\n",
    "item_similarity = cosine_similarity(item_user_filled)\n",
    "item_similarity_df = pd.DataFrame(item_similarity, index=item_user_matrix.index, columns=item_user_matrix.index)\n"
   ]
  },
  {
   "cell_type": "markdown",
   "metadata": {},
   "source": [
    "### ✅ Step 3: Predict Ratings"
   ]
  },
  {
   "cell_type": "code",
   "execution_count": 19,
   "metadata": {},
   "outputs": [],
   "source": [
    "def predict_rating_item_based(user_id, item_id):\n",
    "    if item_id not in item_similarity_df.index or user_id not in item_user_matrix.columns:\n",
    "        return None\n",
    "    \n",
    "    # Get similarities for the item\n",
    "    sim_scores = item_similarity_df[item_id]\n",
    "    \n",
    "    # Get ratings from the user for all items\n",
    "    user_ratings = item_user_matrix[user_id]\n",
    "    \n",
    "    # Align indices\n",
    "    common_items = user_ratings.dropna().index.intersection(sim_scores.index)\n",
    "    \n",
    "    if len(common_items) == 0:\n",
    "        return None\n",
    "    \n",
    "    sim_scores = sim_scores[common_items]\n",
    "    user_ratings = user_ratings[common_items]\n",
    "    \n",
    "    numerator = (sim_scores * user_ratings).sum()\n",
    "    denominator = sim_scores.sum()\n",
    "    \n",
    "    if denominator == 0:\n",
    "        return None\n",
    "    \n",
    "    return numerator / denominator\n"
   ]
  },
  {
   "cell_type": "markdown",
   "metadata": {},
   "source": [
    "### ✅ Step 4: Evaluate Model on Test Data"
   ]
  },
  {
   "cell_type": "code",
   "execution_count": 20,
   "metadata": {},
   "outputs": [
    {
     "name": "stdout",
     "output_type": "stream",
     "text": [
      "📚 Item-Based CF RMSE: 1.5979\n"
     ]
    }
   ],
   "source": [
    "actual = []\n",
    "predicted = []\n",
    "\n",
    "for _, row in test_data.iterrows():\n",
    "    pred = predict_rating_item_based(row['user'], row['item'])\n",
    "    if pred is not None:\n",
    "        actual.append(row['rating'])\n",
    "        predicted.append(pred)\n",
    "\n",
    "# Compute RMSE\n",
    "rmse = sqrt(mean_squared_error(actual, predicted))\n",
    "print(\"📚 Item-Based CF RMSE:\", round(rmse, 4))\n"
   ]
  },
  {
   "cell_type": "markdown",
   "metadata": {},
   "source": [
    " ### 1. KNN with Cosine Similarity\n",
    "* Goal: Memory-based collaborative filtering using KNN"
   ]
  },
  {
   "cell_type": "code",
   "execution_count": 22,
   "metadata": {},
   "outputs": [],
   "source": [
    "from sklearn.metrics.pairwise import cosine_similarity\n",
    "from sklearn.impute import KNNImputer\n",
    "from sklearn.metrics import mean_squared_error\n",
    "import numpy as np\n",
    "\n",
    "# Step 1: Create user-item matrix (ratings_df should already be available)\n",
    "user_item_matrix = ratings.pivot(index=\"user\", columns=\"item\", values=\"rating\")\n",
    "\n",
    "# Step 2: Fill NaN temporarily for KNN to work — using mean imputation (only for distance calc)\n",
    "imputer = KNNImputer(n_neighbors=5)\n",
    "user_item_imputed = imputer.fit_transform(user_item_matrix)\n",
    "\n",
    "# Step 3: Rebuild dataframe\n",
    "user_item_imputed_df = pd.DataFrame(user_item_imputed, index=user_item_matrix.index, columns=user_item_matrix.columns)\n",
    "\n",
    "# Step 4: Cosine similarity between users\n",
    "user_similarity = cosine_similarity(user_item_imputed_df)\n",
    "\n",
    "# Step 5: Predict ratings using weighted average\n",
    "def predict_rating(user_index, item_index, k=5):\n",
    "    sim_scores = user_similarity[user_index]\n",
    "    item_ratings = user_item_matrix.iloc[:, item_index]\n",
    "\n",
    "    # Get indices of top k similar users\n",
    "    top_k_users = np.argsort(sim_scores)[-k:]\n",
    "\n",
    "    weighted_sum = 0\n",
    "    sim_sum = 0\n",
    "    for idx in top_k_users:\n",
    "        rating = item_ratings.iloc[idx]\n",
    "        if not np.isnan(rating):\n",
    "            weighted_sum += sim_scores[idx] * rating\n",
    "            sim_sum += abs(sim_scores[idx])\n",
    "    \n",
    "    return weighted_sum / sim_sum if sim_sum > 0 else np.nan\n",
    "\n",
    "# Optional: Evaluate on a test set\n"
   ]
  },
  {
   "cell_type": "markdown",
   "metadata": {},
   "source": [
    "### Matrix Factorization – SVD (Surprise Library)"
   ]
  },
  {
   "cell_type": "code",
   "execution_count": 25,
   "metadata": {},
   "outputs": [
    {
     "name": "stdout",
     "output_type": "stream",
     "text": [
      "✅ Best RMSE: 1.4819061648729583\n",
      "✅ Best Params: {'n_factors': 20, 'lr_all': 0.005, 'reg_all': 0.1}\n"
     ]
    },
    {
     "data": {
      "text/plain": [
       "Prediction(uid=1, iid=6264, r_ui=None, est=8.061259960378234, details={'was_impossible': False})"
      ]
     },
     "execution_count": 25,
     "metadata": {},
     "output_type": "execute_result"
    }
   ],
   "source": [
    "from surprise import SVD\n",
    "from surprise import Dataset, Reader\n",
    "from surprise.model_selection import cross_validate, GridSearchCV\n",
    "\n",
    "# Step 1: Prepare data for Surprise\n",
    "reader = Reader(rating_scale=(1, 10))\n",
    "data = Dataset.load_from_df(ratings[[\"user\", \"item\", \"rating\"]], reader)\n",
    "\n",
    "# Step 2: Grid Search for tuning\n",
    "param_grid = {\n",
    "    \"n_factors\": [20, 50],\n",
    "    \"lr_all\": [0.005, 0.01],\n",
    "    \"reg_all\": [0.1, 0.2]\n",
    "}\n",
    "gs = GridSearchCV(SVD, param_grid, measures=[\"rmse\"], cv=3)\n",
    "gs.fit(data)\n",
    "\n",
    "print(\"✅ Best RMSE:\", gs.best_score[\"rmse\"])\n",
    "print(\"✅ Best Params:\", gs.best_params[\"rmse\"])\n",
    "\n",
    "# Step 3: Train best model\n",
    "best_model = gs.best_estimator[\"rmse\"]\n",
    "trainset = data.build_full_trainset()\n",
    "best_model.fit(trainset)\n",
    "\n",
    "# Optional: Predict specific rating\n",
    "best_model.predict(uid=1, iid=6264)\n"
   ]
  },
  {
   "cell_type": "code",
   "execution_count": 26,
   "metadata": {},
   "outputs": [
    {
     "data": {
      "text/html": [
       "<div>\n",
       "<style scoped>\n",
       "    .dataframe tbody tr th:only-of-type {\n",
       "        vertical-align: middle;\n",
       "    }\n",
       "\n",
       "    .dataframe tbody tr th {\n",
       "        vertical-align: top;\n",
       "    }\n",
       "\n",
       "    .dataframe thead th {\n",
       "        text-align: right;\n",
       "    }\n",
       "</style>\n",
       "<table border=\"1\" class=\"dataframe\">\n",
       "  <thead>\n",
       "    <tr style=\"text-align: right;\">\n",
       "      <th></th>\n",
       "      <th>Book-Title</th>\n",
       "      <th>Book-Author</th>\n",
       "      <th>Publisher</th>\n",
       "    </tr>\n",
       "  </thead>\n",
       "  <tbody>\n",
       "    <tr>\n",
       "      <th>0</th>\n",
       "      <td>Jazz (Plume Contemporary Fiction)</td>\n",
       "      <td>Toni Morrison</td>\n",
       "      <td>Plume Books</td>\n",
       "    </tr>\n",
       "    <tr>\n",
       "      <th>1</th>\n",
       "      <td>Paradise</td>\n",
       "      <td>Toni Morrison</td>\n",
       "      <td>Plume Books</td>\n",
       "    </tr>\n",
       "    <tr>\n",
       "      <th>2</th>\n",
       "      <td>Beloved</td>\n",
       "      <td>Toni Morrison</td>\n",
       "      <td>Vintage Books</td>\n",
       "    </tr>\n",
       "    <tr>\n",
       "      <th>3</th>\n",
       "      <td>Sula</td>\n",
       "      <td>Toni Morrison</td>\n",
       "      <td>Plume Books</td>\n",
       "    </tr>\n",
       "    <tr>\n",
       "      <th>4</th>\n",
       "      <td>Beloved</td>\n",
       "      <td>TONI MORRISON</td>\n",
       "      <td>Knopf</td>\n",
       "    </tr>\n",
       "    <tr>\n",
       "      <th>5</th>\n",
       "      <td>Tar Baby</td>\n",
       "      <td>Toni Morrison</td>\n",
       "      <td>Plume Books</td>\n",
       "    </tr>\n",
       "    <tr>\n",
       "      <th>6</th>\n",
       "      <td>Beloved</td>\n",
       "      <td>Toni Morrison</td>\n",
       "      <td>New Amer Library</td>\n",
       "    </tr>\n",
       "    <tr>\n",
       "      <th>7</th>\n",
       "      <td>Beloved : Gift Edition</td>\n",
       "      <td>TONI MORRISON</td>\n",
       "      <td>Knopf</td>\n",
       "    </tr>\n",
       "    <tr>\n",
       "      <th>8</th>\n",
       "      <td>Praisesong for the Widow (Plume Contemporary F...</td>\n",
       "      <td>Paule Marshall</td>\n",
       "      <td>Plume Books</td>\n",
       "    </tr>\n",
       "    <tr>\n",
       "      <th>9</th>\n",
       "      <td>A Wild Sheep Chase: A Novel (Plume Contemporar...</td>\n",
       "      <td>Haruki Murakami</td>\n",
       "      <td>Plume Books</td>\n",
       "    </tr>\n",
       "  </tbody>\n",
       "</table>\n",
       "</div>"
      ],
      "text/plain": [
       "                                          Book-Title      Book-Author  \\\n",
       "0                  Jazz (Plume Contemporary Fiction)    Toni Morrison   \n",
       "1                                           Paradise    Toni Morrison   \n",
       "2                                            Beloved    Toni Morrison   \n",
       "3                                               Sula    Toni Morrison   \n",
       "4                                            Beloved    TONI MORRISON   \n",
       "5                                           Tar Baby    Toni Morrison   \n",
       "6                                            Beloved    Toni Morrison   \n",
       "7                             Beloved : Gift Edition    TONI MORRISON   \n",
       "8  Praisesong for the Widow (Plume Contemporary F...   Paule Marshall   \n",
       "9  A Wild Sheep Chase: A Novel (Plume Contemporar...  Haruki Murakami   \n",
       "\n",
       "          Publisher  \n",
       "0       Plume Books  \n",
       "1       Plume Books  \n",
       "2     Vintage Books  \n",
       "3       Plume Books  \n",
       "4             Knopf  \n",
       "5       Plume Books  \n",
       "6  New Amer Library  \n",
       "7             Knopf  \n",
       "8       Plume Books  \n",
       "9       Plume Books  "
      ]
     },
     "execution_count": 26,
     "metadata": {},
     "output_type": "execute_result"
    }
   ],
   "source": [
    "import pandas as pd\n",
    "from sklearn.feature_extraction.text import TfidfVectorizer\n",
    "from sklearn.metrics.pairwise import linear_kernel\n",
    "\n",
    "# Step 1: Load full items_info.csv\n",
    "items_df = pd.read_csv(\"items_info.csv\")\n",
    "\n",
    "# Step 2: Combine metadata fields into one string\n",
    "items_df[\"metadata\"] = (\n",
    "    items_df[\"Book-Title\"].fillna(\"\") + \" \" +\n",
    "    items_df[\"Book-Author\"].fillna(\"\") + \" \" +\n",
    "    items_df[\"Publisher\"].fillna(\"\")\n",
    ")\n",
    "\n",
    "# Step 3: Apply TF-IDF on combined metadata\n",
    "tfidf = TfidfVectorizer(stop_words=\"english\")\n",
    "tfidf_matrix = tfidf.fit_transform(items_df[\"metadata\"])\n",
    "\n",
    "# Step 4: Compute cosine similarity between all books\n",
    "cosine_sim = linear_kernel(tfidf_matrix, tfidf_matrix)\n",
    "\n",
    "# Step 5: Create title-to-index mapping\n",
    "indices = pd.Series(items_df.index, index=items_df[\"Book-Title\"]).drop_duplicates()\n",
    "\n",
    "# Step 6: Define the recommendation function\n",
    "def get_recommendations(title, cosine_sim=cosine_sim):\n",
    "    idx = indices.get(title)\n",
    "    if idx is None:\n",
    "        print(\"Book not found in dataset.\")\n",
    "        return pd.DataFrame()\n",
    "    \n",
    "    sim_scores = list(enumerate(cosine_sim[idx]))\n",
    "    sim_scores = sorted(sim_scores, key=lambda x: x[1], reverse=True)[1:11]\n",
    "    book_indices = [i[0] for i in sim_scores]\n",
    "    \n",
    "    return items_df[[\"Book-Title\", \"Book-Author\", \"Publisher\"]].iloc[book_indices].reset_index(drop=True)\n",
    "\n",
    "# Step 7: Try it on a sample book\n",
    "get_recommendations(\"Beloved (Plume Contemporary Fiction)\")\n"
   ]
  },
  {
   "cell_type": "markdown",
   "metadata": {},
   "source": [
    " ## Task 4: Content-Based Filtering Implementation"
   ]
  },
  {
   "cell_type": "code",
   "execution_count": 27,
   "metadata": {},
   "outputs": [
    {
     "name": "stderr",
     "output_type": "stream",
     "text": [
      "C:\\Users\\ASUS\\anaconda3\\lib\\site-packages\\sklearn\\preprocessing\\_encoders.py:975: FutureWarning: `sparse` was renamed to `sparse_output` in version 1.2 and will be removed in 1.4. `sparse_output` is ignored unless you leave `sparse` to its default value.\n",
      "  warnings.warn(\n"
     ]
    },
    {
     "name": "stdout",
     "output_type": "stream",
     "text": [
      "                                   Book-Title      Book-Author    Publisher\n",
      "0                              You're the One       Judi McCoy  Zebra Books\n",
      "1                             Not Without You   Janelle Taylor  Zebra Books\n",
      "2                                 Lady Killer     Meryl Sawyer  Zebra Books\n",
      "3                  The Sexiest Dead Man Alive   Jane Blackwood  Zebra Books\n",
      "4                             The Last to Die   Beverly Barton  Zebra Books\n",
      "5                        An Improper Proposal     Cheryl Bolen  Zebra Books\n",
      "6                        Match Made in Heaven       Judi McCoy  Zebra Books\n",
      "7  To Tame a Rebel (Zebra Historical Romance)  Georgina Gentry  Zebra Books\n",
      "8                          The Future Scrolls    Fern Michaels  Zebra Books\n",
      "9                                  About Face    Fern Michaels  Zebra Books\n"
     ]
    }
   ],
   "source": [
    "import pandas as pd\n",
    "from sklearn.feature_extraction.text import TfidfVectorizer\n",
    "from sklearn.preprocessing import OneHotEncoder, MinMaxScaler\n",
    "from sklearn.metrics.pairwise import cosine_similarity\n",
    "from scipy.sparse import hstack\n",
    "\n",
    "# Step 1: Load items_info.csv\n",
    "items_df = pd.read_csv(\"items_info.csv\")\n",
    "\n",
    "# Fill missing values\n",
    "items_df[\"Book-Title\"] = items_df[\"Book-Title\"].fillna(\"\")\n",
    "items_df[\"Book-Author\"] = items_df[\"Book-Author\"].fillna(\"\")\n",
    "items_df[\"Publisher\"] = items_df[\"Publisher\"].fillna(\"\")\n",
    "items_df[\"Year-Of-Publication\"] = pd.to_numeric(items_df[\"Year-Of-Publication\"], errors=\"coerce\").fillna(0)\n",
    "\n",
    "# Step 2: TF-IDF on Book-Title\n",
    "tfidf_title = TfidfVectorizer(stop_words=\"english\")\n",
    "tfidf_matrix_title = tfidf_title.fit_transform(items_df[\"Book-Title\"])\n",
    "\n",
    "# Step 3: One-hot encode Author and Publisher\n",
    "encoder = OneHotEncoder(handle_unknown=\"ignore\", sparse=True)\n",
    "encoded_features = encoder.fit_transform(items_df[[\"Book-Author\", \"Publisher\"]])\n",
    "\n",
    "# Step 4: Scale the Year\n",
    "scaler = MinMaxScaler()\n",
    "year_scaled = scaler.fit_transform(items_df[[\"Year-Of-Publication\"]])\n",
    "\n",
    "# Step 5: Combine all features\n",
    "combined_features = hstack([tfidf_matrix_title, encoded_features, year_scaled])\n",
    "\n",
    "# Step 6: Compute cosine similarity\n",
    "cosine_sim = cosine_similarity(combined_features, combined_features)\n",
    "\n",
    "# Step 7: Title-to-index mapping\n",
    "indices = pd.Series(items_df.index, index=items_df[\"Book-Title\"]).drop_duplicates()\n",
    "\n",
    "# Step 8: Recommendation function\n",
    "def get_recommendations(title, cosine_sim=cosine_sim):\n",
    "    matches = indices[indices.index.str.lower() == title.lower()]\n",
    "    \n",
    "    if matches.empty:\n",
    "        print(\"Book not found in dataset.\")\n",
    "        return pd.DataFrame()\n",
    "    \n",
    "    idx = matches.iloc[0]  # Take the first match\n",
    "\n",
    "    sim_scores = list(enumerate(cosine_sim[idx]))\n",
    "    sim_scores = sorted(sim_scores, key=lambda x: x[1], reverse=True)[1:11]\n",
    "    book_indices = [i[0] for i in sim_scores]\n",
    "    \n",
    "    return items_df[[\"Book-Title\", \"Book-Author\", \"Publisher\"]].iloc[book_indices].reset_index(drop=True)\n",
    "# Example Usage\n",
    "print(get_recommendations(\"Beloved\"))\n"
   ]
  },
  {
   "cell_type": "markdown",
   "metadata": {},
   "source": [
    "### Hybrid Recommender"
   ]
  },
  {
   "cell_type": "code",
   "execution_count": 28,
   "metadata": {},
   "outputs": [
    {
     "data": {
      "text/html": [
       "<div>\n",
       "<style scoped>\n",
       "    .dataframe tbody tr th:only-of-type {\n",
       "        vertical-align: middle;\n",
       "    }\n",
       "\n",
       "    .dataframe tbody tr th {\n",
       "        vertical-align: top;\n",
       "    }\n",
       "\n",
       "    .dataframe thead th {\n",
       "        text-align: right;\n",
       "    }\n",
       "</style>\n",
       "<table border=\"1\" class=\"dataframe\">\n",
       "  <thead>\n",
       "    <tr style=\"text-align: right;\">\n",
       "      <th></th>\n",
       "      <th>Book-Title</th>\n",
       "      <th>Book-Author</th>\n",
       "      <th>Publisher</th>\n",
       "    </tr>\n",
       "  </thead>\n",
       "  <tbody>\n",
       "    <tr>\n",
       "      <th>0</th>\n",
       "      <td>Jazz (Plume Contemporary Fiction)</td>\n",
       "      <td>Toni Morrison</td>\n",
       "      <td>Plume Books</td>\n",
       "    </tr>\n",
       "    <tr>\n",
       "      <th>1</th>\n",
       "      <td>Paradise</td>\n",
       "      <td>Toni Morrison</td>\n",
       "      <td>Plume Books</td>\n",
       "    </tr>\n",
       "    <tr>\n",
       "      <th>2</th>\n",
       "      <td>Beloved</td>\n",
       "      <td>Toni Morrison</td>\n",
       "      <td>Vintage Books</td>\n",
       "    </tr>\n",
       "    <tr>\n",
       "      <th>3</th>\n",
       "      <td>Beloved</td>\n",
       "      <td>TONI MORRISON</td>\n",
       "      <td>Knopf</td>\n",
       "    </tr>\n",
       "    <tr>\n",
       "      <th>4</th>\n",
       "      <td>Tar Baby</td>\n",
       "      <td>Toni Morrison</td>\n",
       "      <td>Plume Books</td>\n",
       "    </tr>\n",
       "    <tr>\n",
       "      <th>5</th>\n",
       "      <td>Sula</td>\n",
       "      <td>Toni Morrison</td>\n",
       "      <td>Plume Books</td>\n",
       "    </tr>\n",
       "    <tr>\n",
       "      <th>6</th>\n",
       "      <td>Beloved</td>\n",
       "      <td>Toni Morrison</td>\n",
       "      <td>New Amer Library</td>\n",
       "    </tr>\n",
       "    <tr>\n",
       "      <th>7</th>\n",
       "      <td>Beloved : Gift Edition</td>\n",
       "      <td>TONI MORRISON</td>\n",
       "      <td>Knopf</td>\n",
       "    </tr>\n",
       "    <tr>\n",
       "      <th>8</th>\n",
       "      <td>Praisesong for the Widow (Plume Contemporary F...</td>\n",
       "      <td>Paule Marshall</td>\n",
       "      <td>Plume Books</td>\n",
       "    </tr>\n",
       "    <tr>\n",
       "      <th>9</th>\n",
       "      <td>A Wild Sheep Chase: A Novel (Plume Contemporar...</td>\n",
       "      <td>Haruki Murakami</td>\n",
       "      <td>Plume Books</td>\n",
       "    </tr>\n",
       "  </tbody>\n",
       "</table>\n",
       "</div>"
      ],
      "text/plain": [
       "                                          Book-Title      Book-Author  \\\n",
       "0                  Jazz (Plume Contemporary Fiction)    Toni Morrison   \n",
       "1                                           Paradise    Toni Morrison   \n",
       "2                                            Beloved    Toni Morrison   \n",
       "3                                            Beloved    TONI MORRISON   \n",
       "4                                           Tar Baby    Toni Morrison   \n",
       "5                                               Sula    Toni Morrison   \n",
       "6                                            Beloved    Toni Morrison   \n",
       "7                             Beloved : Gift Edition    TONI MORRISON   \n",
       "8  Praisesong for the Widow (Plume Contemporary F...   Paule Marshall   \n",
       "9  A Wild Sheep Chase: A Novel (Plume Contemporar...  Haruki Murakami   \n",
       "\n",
       "          Publisher  \n",
       "0       Plume Books  \n",
       "1       Plume Books  \n",
       "2     Vintage Books  \n",
       "3             Knopf  \n",
       "4       Plume Books  \n",
       "5       Plume Books  \n",
       "6  New Amer Library  \n",
       "7             Knopf  \n",
       "8       Plume Books  \n",
       "9       Plume Books  "
      ]
     },
     "execution_count": 28,
     "metadata": {},
     "output_type": "execute_result"
    }
   ],
   "source": [
    "import pandas as pd\n",
    "import numpy as np\n",
    "from sklearn.feature_extraction.text import TfidfVectorizer\n",
    "from sklearn.metrics.pairwise import linear_kernel\n",
    "from surprise import SVD, Dataset, Reader\n",
    "from surprise.model_selection import train_test_split\n",
    "from surprise import accuracy\n",
    "\n",
    "# ---------- Load Content Metadata ----------\n",
    "items_df = pd.read_csv(\"items_info.csv\")\n",
    "\n",
    "items_df[\"metadata\"] = (\n",
    "    items_df[\"Book-Title\"].fillna(\"\") + \" \" +\n",
    "    items_df[\"Book-Author\"].fillna(\"\") + \" \" +\n",
    "    items_df[\"Publisher\"].fillna(\"\")\n",
    ")\n",
    "\n",
    "# TF-IDF & cosine similarity\n",
    "tfidf = TfidfVectorizer(stop_words=\"english\")\n",
    "tfidf_matrix = tfidf.fit_transform(items_df[\"metadata\"])\n",
    "cosine_sim = linear_kernel(tfidf_matrix, tfidf_matrix)\n",
    "indices = pd.Series(items_df.index, index=items_df[\"Book-Title\"]).drop_duplicates()\n",
    "\n",
    "# ---------- Train Collaborative Filtering (SVD) ----------\n",
    "ratings_df = pd.read_csv(\"book_ratings.csv\")  # Ensure it has columns: user, item, rating\n",
    "\n",
    "reader = Reader(rating_scale=(1, 10))\n",
    "data = Dataset.load_from_df(ratings_df[[\"user\", \"item\", \"rating\"]], reader)\n",
    "trainset, testset = train_test_split(data, test_size=0.2, random_state=42)\n",
    "\n",
    "svd_model = SVD()\n",
    "svd_model.fit(trainset)\n",
    "\n",
    "# ---------- Hybrid Recommender Function ----------\n",
    "def hybrid_recommendations(title, user_id, top_n=10):\n",
    "    if title not in indices:\n",
    "        print(\"Book not found.\")\n",
    "        return pd.DataFrame()\n",
    "\n",
    "    # Content-based scores\n",
    "    idx = indices[title]\n",
    "    sim_scores = list(enumerate(cosine_sim[idx]))\n",
    "    sim_scores = sorted(sim_scores, key=lambda x: x[1], reverse=True)\n",
    "\n",
    "    # Predict SVD score for each similar book\n",
    "    hybrid_scores = []\n",
    "    for i, sim in sim_scores[1:]:\n",
    "        book_id = items_df.iloc[i][\"Book_ID\"]\n",
    "        try:\n",
    "            pred_rating = svd_model.predict(user_id, book_id).est\n",
    "            final_score = sim * pred_rating\n",
    "            hybrid_scores.append((i, final_score))\n",
    "        except:\n",
    "            continue\n",
    "\n",
    "    # Top N recommendations\n",
    "    hybrid_scores = sorted(hybrid_scores, key=lambda x: x[1], reverse=True)[:top_n]\n",
    "    indices_top = [i[0] for i in hybrid_scores]\n",
    "    return items_df[[\"Book-Title\", \"Book-Author\", \"Publisher\"]].iloc[indices_top].reset_index(drop=True)\n",
    "\n",
    "# ---------- Try it out ----------\n",
    "hybrid_recommendations(\"Beloved (Plume Contemporary Fiction)\", user_id=1)\n"
   ]
  },
  {
   "cell_type": "code",
   "execution_count": 29,
   "metadata": {},
   "outputs": [
    {
     "name": "stdout",
     "output_type": "stream",
     "text": [
      "📊 Hybrid Meta-Model (Logistic Regression) RMSE: 0.8367\n"
     ]
    }
   ],
   "source": [
    "import pandas as pd\n",
    "import numpy as np\n",
    "from surprise import SVD, Dataset, Reader\n",
    "from sklearn.linear_model import LinearRegression\n",
    "from sklearn.metrics import mean_squared_error\n",
    "from sklearn.model_selection import train_test_split\n",
    "from sklearn.feature_extraction.text import TfidfVectorizer\n",
    "from sklearn.metrics.pairwise import cosine_similarity\n",
    "\n",
    "# Step 1: Load data\n",
    "ratings_df = pd.read_csv(\"book_ratings.csv\")\n",
    "items_df = pd.read_csv(\"items_info.csv\")\n",
    "\n",
    "# Step 2: SVD Collaborative Filtering\n",
    "reader = Reader(rating_scale=(1, 10))\n",
    "data = Dataset.load_from_df(ratings_df[['user', 'item', 'rating']], reader)\n",
    "trainset = data.build_full_trainset()\n",
    "svd = SVD()\n",
    "svd.fit(trainset)\n",
    "\n",
    "# Add SVD predictions\n",
    "ratings_df['pred_svd'] = ratings_df.apply(lambda row: svd.predict(row['user'], row['item']).est, axis=1)\n",
    "\n",
    "# Step 3: TF-IDF Content-Based Filtering\n",
    "items_df[\"metadata\"] = (\n",
    "    items_df[\"Book-Title\"].fillna(\"\") + \" \" +\n",
    "    items_df[\"Book-Author\"].fillna(\"\") + \" \" +\n",
    "    items_df[\"Publisher\"].fillna(\"\")\n",
    ")\n",
    "\n",
    "tfidf = TfidfVectorizer(stop_words='english')\n",
    "tfidf_matrix = tfidf.fit_transform(items_df[\"metadata\"])\n",
    "cosine_sim = cosine_similarity(tfidf_matrix, tfidf_matrix)\n",
    "\n",
    "# Title index mapping\n",
    "title_to_index = pd.Series(items_df.index, index=items_df[\"Book-Title\"].str.lower()).drop_duplicates()\n",
    "id_to_title = dict(zip(items_df[\"Book_ID\"], items_df[\"Book-Title\"]))\n",
    "\n",
    "# Function to get content score\n",
    "def get_content_score(item_id):\n",
    "    title = id_to_title.get(item_id, \"\").lower()\n",
    "    idx = title_to_index.get(title)\n",
    "    if idx is None:\n",
    "        return 0\n",
    "    return cosine_sim[idx].mean()\n",
    "\n",
    "# Add content score\n",
    "ratings_df[\"content_score\"] = ratings_df[\"item\"].apply(get_content_score)\n",
    "\n",
    "# Step 4: Train Hybrid Meta-Model\n",
    "X = ratings_df[[\"pred_svd\", \"content_score\"]]\n",
    "y = ratings_df[\"rating\"]\n",
    "X_train, X_test, y_train, y_test = train_test_split(X, y, test_size=0.2, random_state=42)\n",
    "\n",
    "model = LinearRegression()\n",
    "model.fit(X_train, y_train)\n",
    "y_pred = model.predict(X_test)\n",
    "\n",
    "# Step 5: Evaluate\n",
    "rmse = np.sqrt(mean_squared_error(y_test, y_pred))\n",
    "print(f\"📊 Hybrid Meta-Model (Logistic Regression) RMSE: {rmse:.4f}\")\n"
   ]
  },
  {
   "cell_type": "code",
   "execution_count": null,
   "metadata": {},
   "outputs": [],
   "source": []
  }
 ],
 "metadata": {
  "kernelspec": {
   "display_name": "Python 3",
   "language": "python",
   "name": "python3"
  },
  "language_info": {
   "codemirror_mode": {
    "name": "ipython",
    "version": 3
   },
   "file_extension": ".py",
   "mimetype": "text/x-python",
   "name": "python",
   "nbconvert_exporter": "python",
   "pygments_lexer": "ipython3",
   "version": "3.8.5"
  }
 },
 "nbformat": 4,
 "nbformat_minor": 4
}
