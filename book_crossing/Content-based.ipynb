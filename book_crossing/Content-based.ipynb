{
 "cells": [
  {
   "cell_type": "markdown",
   "id": "59e04200-6364-4c11-aedd-d0812806639f",
   "metadata": {},
   "source": [
    "# Content-based recommender system using book description and book categories"
   ]
  },
  {
   "cell_type": "code",
   "execution_count": 1,
   "id": "408297eb-a300-44eb-b350-f58ee7efef09",
   "metadata": {},
   "outputs": [],
   "source": [
    "import pandas as pd\n",
    "import numpy as np\n",
    "import matplotlib.pyplot as plt"
   ]
  },
  {
   "cell_type": "markdown",
   "id": "8d484bd8-aa94-4ef5-99b6-d944b833fda1",
   "metadata": {},
   "source": [
    "#### use code from other notebooks to load data"
   ]
  },
  {
   "cell_type": "code",
   "execution_count": 5,
   "id": "d74cc15d-8d85-420f-9560-d42c9b702032",
   "metadata": {},
   "outputs": [],
   "source": [
    "ratings = pd.read_csv('book_ratings.csv')\n",
    "history = pd.read_csv('book_history.csv')\n",
    "items = pd.read_csv('items_info.csv')\n",
    "users = pd.read_csv('users_info.csv')\n",
    "\n",
    "# 🔍 Step 1: Clean Ratings\n",
    "ratings.drop_duplicates(inplace=True)\n",
    "ratings = ratings.dropna(subset=['user', 'item', 'rating'])\n",
    "\n",
    "# 🔍 Step 2: Clean History\n",
    "history.drop_duplicates(inplace=True)\n",
    "history = history.dropna(subset=['user', 'item', 'accessed'])\n",
    "\n",
    "# 🔍 Step 3: Clean Items\n",
    "items.drop_duplicates(subset=['Book_ID', 'ISBN'], inplace=True)\n",
    "\n",
    "# Fix types\n",
    "items['Year-Of-Publication'] = pd.to_numeric(items['Year-Of-Publication'], errors='coerce')\n",
    "items['Year-Of-Publication'] = items['Year-Of-Publication'].fillna(0).astype(int)\n",
    "items['Publisher'] = items['Publisher'].fillna('Unknown')\n",
    "items['Book-Title'] = items['Book-Title'].fillna('Unknown')\n",
    "items['Book-Author'] = items['Book-Author'].fillna('Unknown')\n",
    "\n",
    "# 🔍 Step 4: Clean Users\n",
    "users.drop_duplicates(inplace=True)\n",
    "users['Age'] = pd.to_numeric(users['Age'], errors='coerce')\n",
    "users.loc[(users['Age'] < 10) | (users['Age'] > 90), 'Age'] = np.nan"
   ]
  },
  {
   "cell_type": "code",
   "execution_count": 38,
   "id": "26918d2c-a1f2-4c77-9b7e-d75b1bae9111",
   "metadata": {},
   "outputs": [],
   "source": [
    "# Create user-item rating matrix (users as rows, items as columns)\n",
    "user_item_matrix = ratings.pivot(index='user', columns='item', values='rating')"
   ]
  },
  {
   "cell_type": "code",
   "execution_count": 40,
   "id": "5c434c01-a6e2-4e10-b42c-5104114c02a8",
   "metadata": {},
   "outputs": [],
   "source": [
    "# fill missing ratings with 0\n",
    "filled_matrix = user_item_matrix.fillna(0)"
   ]
  },
  {
   "cell_type": "code",
   "execution_count": 8,
   "id": "571ea41c-1c89-48c1-adcd-55709eb61845",
   "metadata": {},
   "outputs": [],
   "source": [
    "book_info = pd.read_csv(\"books_info_updated.csv\")"
   ]
  },
  {
   "cell_type": "code",
   "execution_count": 10,
   "id": "b8fd0ef1-3eb8-4de9-ae9d-27ed591453d9",
   "metadata": {},
   "outputs": [
    {
     "data": {
      "text/html": [
       "<div>\n",
       "<style scoped>\n",
       "    .dataframe tbody tr th:only-of-type {\n",
       "        vertical-align: middle;\n",
       "    }\n",
       "\n",
       "    .dataframe tbody tr th {\n",
       "        vertical-align: top;\n",
       "    }\n",
       "\n",
       "    .dataframe thead th {\n",
       "        text-align: right;\n",
       "    }\n",
       "</style>\n",
       "<table border=\"1\" class=\"dataframe\">\n",
       "  <thead>\n",
       "    <tr style=\"text-align: right;\">\n",
       "      <th></th>\n",
       "      <th>ISBN</th>\n",
       "      <th>Title</th>\n",
       "      <th>Description</th>\n",
       "      <th>Category</th>\n",
       "    </tr>\n",
       "  </thead>\n",
       "  <tbody>\n",
       "    <tr>\n",
       "      <th>0</th>\n",
       "      <td>0060973129</td>\n",
       "      <td>Decision in Normandy</td>\n",
       "      <td>No description available</td>\n",
       "      <td>['Normandy (France)', 'France', 'Campaigns', '...</td>\n",
       "    </tr>\n",
       "    <tr>\n",
       "      <th>1</th>\n",
       "      <td>0393045218</td>\n",
       "      <td>The mummies of Ürümchi</td>\n",
       "      <td>In the museums of Urumchi, the wind-swept regi...</td>\n",
       "      <td>['China', 'Antiquities', 'Mummies', 'Bronze ag...</td>\n",
       "    </tr>\n",
       "    <tr>\n",
       "      <th>2</th>\n",
       "      <td>0425176428</td>\n",
       "      <td>What if?</td>\n",
       "      <td>No description available</td>\n",
       "      <td>['Imaginary wars and battles.', 'Imaginary his...</td>\n",
       "    </tr>\n",
       "    <tr>\n",
       "      <th>3</th>\n",
       "      <td>0452264464</td>\n",
       "      <td>Beloved</td>\n",
       "      <td>No description available</td>\n",
       "      <td>['African American History', 'Ohio', 'History'...</td>\n",
       "    </tr>\n",
       "    <tr>\n",
       "      <th>4</th>\n",
       "      <td>0609804618</td>\n",
       "      <td>Our dumb century</td>\n",
       "      <td>No description available</td>\n",
       "      <td>['American wit and humor', 'Headlines', 'Humor...</td>\n",
       "    </tr>\n",
       "  </tbody>\n",
       "</table>\n",
       "</div>"
      ],
      "text/plain": [
       "         ISBN                     Title  \\\n",
       "0  0060973129      Decision in Normandy   \n",
       "1  0393045218  The mummies of Ürümchi   \n",
       "2  0425176428                  What if?   \n",
       "3  0452264464                   Beloved   \n",
       "4  0609804618          Our dumb century   \n",
       "\n",
       "                                         Description  \\\n",
       "0                           No description available   \n",
       "1  In the museums of Urumchi, the wind-swept regi...   \n",
       "2                           No description available   \n",
       "3                           No description available   \n",
       "4                           No description available   \n",
       "\n",
       "                                            Category  \n",
       "0  ['Normandy (France)', 'France', 'Campaigns', '...  \n",
       "1  ['China', 'Antiquities', 'Mummies', 'Bronze ag...  \n",
       "2  ['Imaginary wars and battles.', 'Imaginary his...  \n",
       "3  ['African American History', 'Ohio', 'History'...  \n",
       "4  ['American wit and humor', 'Headlines', 'Humor...  "
      ]
     },
     "execution_count": 10,
     "metadata": {},
     "output_type": "execute_result"
    }
   ],
   "source": [
    "book_info.head()"
   ]
  },
  {
   "cell_type": "code",
   "execution_count": 12,
   "id": "8340e682-3727-4f57-9f9c-f38c96972b59",
   "metadata": {},
   "outputs": [
    {
     "data": {
      "text/html": [
       "<div>\n",
       "<style scoped>\n",
       "    .dataframe tbody tr th:only-of-type {\n",
       "        vertical-align: middle;\n",
       "    }\n",
       "\n",
       "    .dataframe tbody tr th {\n",
       "        vertical-align: top;\n",
       "    }\n",
       "\n",
       "    .dataframe thead th {\n",
       "        text-align: right;\n",
       "    }\n",
       "</style>\n",
       "<table border=\"1\" class=\"dataframe\">\n",
       "  <thead>\n",
       "    <tr style=\"text-align: right;\">\n",
       "      <th></th>\n",
       "      <th>Book_ID</th>\n",
       "      <th>ISBN</th>\n",
       "      <th>Book-Title</th>\n",
       "      <th>Book-Author</th>\n",
       "      <th>Year-Of-Publication</th>\n",
       "      <th>Publisher</th>\n",
       "      <th>Image-URL-S</th>\n",
       "      <th>Image-URL-M</th>\n",
       "      <th>Image-URL-L</th>\n",
       "    </tr>\n",
       "  </thead>\n",
       "  <tbody>\n",
       "    <tr>\n",
       "      <th>0</th>\n",
       "      <td>1</td>\n",
       "      <td>0060973129</td>\n",
       "      <td>Decision in Normandy</td>\n",
       "      <td>Carlo D'Este</td>\n",
       "      <td>1991</td>\n",
       "      <td>HarperPerennial</td>\n",
       "      <td>http://images.amazon.com/images/P/0060973129.0...</td>\n",
       "      <td>http://images.amazon.com/images/P/0060973129.0...</td>\n",
       "      <td>http://images.amazon.com/images/P/0060973129.0...</td>\n",
       "    </tr>\n",
       "    <tr>\n",
       "      <th>1</th>\n",
       "      <td>3</td>\n",
       "      <td>0425176428</td>\n",
       "      <td>What If?: The World's Foremost Military Histor...</td>\n",
       "      <td>Robert Cowley</td>\n",
       "      <td>2000</td>\n",
       "      <td>Berkley Publishing Group</td>\n",
       "      <td>http://images.amazon.com/images/P/0425176428.0...</td>\n",
       "      <td>http://images.amazon.com/images/P/0425176428.0...</td>\n",
       "      <td>http://images.amazon.com/images/P/0425176428.0...</td>\n",
       "    </tr>\n",
       "    <tr>\n",
       "      <th>2</th>\n",
       "      <td>4</td>\n",
       "      <td>0452264464</td>\n",
       "      <td>Beloved (Plume Contemporary Fiction)</td>\n",
       "      <td>Toni Morrison</td>\n",
       "      <td>1994</td>\n",
       "      <td>Plume</td>\n",
       "      <td>http://images.amazon.com/images/P/0452264464.0...</td>\n",
       "      <td>http://images.amazon.com/images/P/0452264464.0...</td>\n",
       "      <td>http://images.amazon.com/images/P/0452264464.0...</td>\n",
       "    </tr>\n",
       "    <tr>\n",
       "      <th>3</th>\n",
       "      <td>5</td>\n",
       "      <td>0609804618</td>\n",
       "      <td>Our Dumb Century: The Onion Presents 100 Years...</td>\n",
       "      <td>The Onion</td>\n",
       "      <td>1999</td>\n",
       "      <td>Three Rivers Press</td>\n",
       "      <td>http://images.amazon.com/images/P/0609804618.0...</td>\n",
       "      <td>http://images.amazon.com/images/P/0609804618.0...</td>\n",
       "      <td>http://images.amazon.com/images/P/0609804618.0...</td>\n",
       "    </tr>\n",
       "    <tr>\n",
       "      <th>4</th>\n",
       "      <td>7</td>\n",
       "      <td>1879384493</td>\n",
       "      <td>If I'd Known Then What I Know Now: Why Not Lea...</td>\n",
       "      <td>J. R. Parrish</td>\n",
       "      <td>2003</td>\n",
       "      <td>Cypress House</td>\n",
       "      <td>http://images.amazon.com/images/P/1879384493.0...</td>\n",
       "      <td>http://images.amazon.com/images/P/1879384493.0...</td>\n",
       "      <td>http://images.amazon.com/images/P/1879384493.0...</td>\n",
       "    </tr>\n",
       "  </tbody>\n",
       "</table>\n",
       "</div>"
      ],
      "text/plain": [
       "   Book_ID        ISBN                                         Book-Title  \\\n",
       "0        1  0060973129                               Decision in Normandy   \n",
       "1        3  0425176428  What If?: The World's Foremost Military Histor...   \n",
       "2        4  0452264464               Beloved (Plume Contemporary Fiction)   \n",
       "3        5  0609804618  Our Dumb Century: The Onion Presents 100 Years...   \n",
       "4        7  1879384493  If I'd Known Then What I Know Now: Why Not Lea...   \n",
       "\n",
       "     Book-Author  Year-Of-Publication                 Publisher  \\\n",
       "0   Carlo D'Este                 1991           HarperPerennial   \n",
       "1  Robert Cowley                 2000  Berkley Publishing Group   \n",
       "2  Toni Morrison                 1994                     Plume   \n",
       "3      The Onion                 1999        Three Rivers Press   \n",
       "4  J. R. Parrish                 2003             Cypress House   \n",
       "\n",
       "                                         Image-URL-S  \\\n",
       "0  http://images.amazon.com/images/P/0060973129.0...   \n",
       "1  http://images.amazon.com/images/P/0425176428.0...   \n",
       "2  http://images.amazon.com/images/P/0452264464.0...   \n",
       "3  http://images.amazon.com/images/P/0609804618.0...   \n",
       "4  http://images.amazon.com/images/P/1879384493.0...   \n",
       "\n",
       "                                         Image-URL-M  \\\n",
       "0  http://images.amazon.com/images/P/0060973129.0...   \n",
       "1  http://images.amazon.com/images/P/0425176428.0...   \n",
       "2  http://images.amazon.com/images/P/0452264464.0...   \n",
       "3  http://images.amazon.com/images/P/0609804618.0...   \n",
       "4  http://images.amazon.com/images/P/1879384493.0...   \n",
       "\n",
       "                                         Image-URL-L  \n",
       "0  http://images.amazon.com/images/P/0060973129.0...  \n",
       "1  http://images.amazon.com/images/P/0425176428.0...  \n",
       "2  http://images.amazon.com/images/P/0452264464.0...  \n",
       "3  http://images.amazon.com/images/P/0609804618.0...  \n",
       "4  http://images.amazon.com/images/P/1879384493.0...  "
      ]
     },
     "execution_count": 12,
     "metadata": {},
     "output_type": "execute_result"
    }
   ],
   "source": [
    "items.head()"
   ]
  },
  {
   "cell_type": "code",
   "execution_count": 16,
   "id": "8b50928f-4c8c-4bf1-b80a-69c1cb657be2",
   "metadata": {},
   "outputs": [
    {
     "data": {
      "text/plain": [
       "(17347, 4)"
      ]
     },
     "execution_count": 16,
     "metadata": {},
     "output_type": "execute_result"
    }
   ],
   "source": [
    "book_info.shape"
   ]
  },
  {
   "cell_type": "code",
   "execution_count": 18,
   "id": "8e1e84e3-70ac-4bd0-8f01-0b6c48495b03",
   "metadata": {},
   "outputs": [
    {
     "data": {
      "text/plain": [
       "(16411, 9)"
      ]
     },
     "execution_count": 18,
     "metadata": {},
     "output_type": "execute_result"
    }
   ],
   "source": [
    "items.shape"
   ]
  },
  {
   "cell_type": "markdown",
   "id": "cbdf5d18-af4f-4740-8ef3-3377d0e32f56",
   "metadata": {},
   "source": [
    "#### book info and items don't have the same shape, merge two df based on ISBN"
   ]
  },
  {
   "cell_type": "code",
   "execution_count": 20,
   "id": "251014ad-555a-4d20-9327-94be4f6a2ca0",
   "metadata": {},
   "outputs": [],
   "source": [
    "merged_book_info = pd.merge(items, book_info, on = \"ISBN\")"
   ]
  },
  {
   "cell_type": "code",
   "execution_count": 22,
   "id": "eae32672-8d14-4d72-9222-92ff810bc7a9",
   "metadata": {},
   "outputs": [
    {
     "data": {
      "text/plain": [
       "(16378, 12)"
      ]
     },
     "execution_count": 22,
     "metadata": {},
     "output_type": "execute_result"
    }
   ],
   "source": [
    "merged_book_info.shape"
   ]
  },
  {
   "cell_type": "code",
   "execution_count": 24,
   "id": "1bff8a05-efbb-4afe-8053-d8efdb0f04ab",
   "metadata": {},
   "outputs": [
    {
     "data": {
      "text/html": [
       "<div>\n",
       "<style scoped>\n",
       "    .dataframe tbody tr th:only-of-type {\n",
       "        vertical-align: middle;\n",
       "    }\n",
       "\n",
       "    .dataframe tbody tr th {\n",
       "        vertical-align: top;\n",
       "    }\n",
       "\n",
       "    .dataframe thead th {\n",
       "        text-align: right;\n",
       "    }\n",
       "</style>\n",
       "<table border=\"1\" class=\"dataframe\">\n",
       "  <thead>\n",
       "    <tr style=\"text-align: right;\">\n",
       "      <th></th>\n",
       "      <th>Book_ID</th>\n",
       "      <th>ISBN</th>\n",
       "      <th>Book-Title</th>\n",
       "      <th>Book-Author</th>\n",
       "      <th>Year-Of-Publication</th>\n",
       "      <th>Publisher</th>\n",
       "      <th>Image-URL-S</th>\n",
       "      <th>Image-URL-M</th>\n",
       "      <th>Image-URL-L</th>\n",
       "      <th>Title</th>\n",
       "      <th>Description</th>\n",
       "      <th>Category</th>\n",
       "    </tr>\n",
       "  </thead>\n",
       "  <tbody>\n",
       "    <tr>\n",
       "      <th>0</th>\n",
       "      <td>1</td>\n",
       "      <td>0060973129</td>\n",
       "      <td>Decision in Normandy</td>\n",
       "      <td>Carlo D'Este</td>\n",
       "      <td>1991</td>\n",
       "      <td>HarperPerennial</td>\n",
       "      <td>http://images.amazon.com/images/P/0060973129.0...</td>\n",
       "      <td>http://images.amazon.com/images/P/0060973129.0...</td>\n",
       "      <td>http://images.amazon.com/images/P/0060973129.0...</td>\n",
       "      <td>Decision in Normandy</td>\n",
       "      <td>No description available</td>\n",
       "      <td>['Normandy (France)', 'France', 'Campaigns', '...</td>\n",
       "    </tr>\n",
       "    <tr>\n",
       "      <th>1</th>\n",
       "      <td>3</td>\n",
       "      <td>0425176428</td>\n",
       "      <td>What If?: The World's Foremost Military Histor...</td>\n",
       "      <td>Robert Cowley</td>\n",
       "      <td>2000</td>\n",
       "      <td>Berkley Publishing Group</td>\n",
       "      <td>http://images.amazon.com/images/P/0425176428.0...</td>\n",
       "      <td>http://images.amazon.com/images/P/0425176428.0...</td>\n",
       "      <td>http://images.amazon.com/images/P/0425176428.0...</td>\n",
       "      <td>What if?</td>\n",
       "      <td>No description available</td>\n",
       "      <td>['Imaginary wars and battles.', 'Imaginary his...</td>\n",
       "    </tr>\n",
       "    <tr>\n",
       "      <th>2</th>\n",
       "      <td>4</td>\n",
       "      <td>0452264464</td>\n",
       "      <td>Beloved (Plume Contemporary Fiction)</td>\n",
       "      <td>Toni Morrison</td>\n",
       "      <td>1994</td>\n",
       "      <td>Plume</td>\n",
       "      <td>http://images.amazon.com/images/P/0452264464.0...</td>\n",
       "      <td>http://images.amazon.com/images/P/0452264464.0...</td>\n",
       "      <td>http://images.amazon.com/images/P/0452264464.0...</td>\n",
       "      <td>Beloved</td>\n",
       "      <td>No description available</td>\n",
       "      <td>['African American History', 'Ohio', 'History'...</td>\n",
       "    </tr>\n",
       "    <tr>\n",
       "      <th>3</th>\n",
       "      <td>5</td>\n",
       "      <td>0609804618</td>\n",
       "      <td>Our Dumb Century: The Onion Presents 100 Years...</td>\n",
       "      <td>The Onion</td>\n",
       "      <td>1999</td>\n",
       "      <td>Three Rivers Press</td>\n",
       "      <td>http://images.amazon.com/images/P/0609804618.0...</td>\n",
       "      <td>http://images.amazon.com/images/P/0609804618.0...</td>\n",
       "      <td>http://images.amazon.com/images/P/0609804618.0...</td>\n",
       "      <td>Our dumb century</td>\n",
       "      <td>No description available</td>\n",
       "      <td>['American wit and humor', 'Headlines', 'Humor...</td>\n",
       "    </tr>\n",
       "    <tr>\n",
       "      <th>4</th>\n",
       "      <td>7</td>\n",
       "      <td>1879384493</td>\n",
       "      <td>If I'd Known Then What I Know Now: Why Not Lea...</td>\n",
       "      <td>J. R. Parrish</td>\n",
       "      <td>2003</td>\n",
       "      <td>Cypress House</td>\n",
       "      <td>http://images.amazon.com/images/P/1879384493.0...</td>\n",
       "      <td>http://images.amazon.com/images/P/1879384493.0...</td>\n",
       "      <td>http://images.amazon.com/images/P/1879384493.0...</td>\n",
       "      <td>If I'd Known Then What I Know Now: Why Not Lea...</td>\n",
       "      <td>No description available</td>\n",
       "      <td>['Personal Growth - General', 'Personal &amp; Prac...</td>\n",
       "    </tr>\n",
       "  </tbody>\n",
       "</table>\n",
       "</div>"
      ],
      "text/plain": [
       "   Book_ID        ISBN                                         Book-Title  \\\n",
       "0        1  0060973129                               Decision in Normandy   \n",
       "1        3  0425176428  What If?: The World's Foremost Military Histor...   \n",
       "2        4  0452264464               Beloved (Plume Contemporary Fiction)   \n",
       "3        5  0609804618  Our Dumb Century: The Onion Presents 100 Years...   \n",
       "4        7  1879384493  If I'd Known Then What I Know Now: Why Not Lea...   \n",
       "\n",
       "     Book-Author  Year-Of-Publication                 Publisher  \\\n",
       "0   Carlo D'Este                 1991           HarperPerennial   \n",
       "1  Robert Cowley                 2000  Berkley Publishing Group   \n",
       "2  Toni Morrison                 1994                     Plume   \n",
       "3      The Onion                 1999        Three Rivers Press   \n",
       "4  J. R. Parrish                 2003             Cypress House   \n",
       "\n",
       "                                         Image-URL-S  \\\n",
       "0  http://images.amazon.com/images/P/0060973129.0...   \n",
       "1  http://images.amazon.com/images/P/0425176428.0...   \n",
       "2  http://images.amazon.com/images/P/0452264464.0...   \n",
       "3  http://images.amazon.com/images/P/0609804618.0...   \n",
       "4  http://images.amazon.com/images/P/1879384493.0...   \n",
       "\n",
       "                                         Image-URL-M  \\\n",
       "0  http://images.amazon.com/images/P/0060973129.0...   \n",
       "1  http://images.amazon.com/images/P/0425176428.0...   \n",
       "2  http://images.amazon.com/images/P/0452264464.0...   \n",
       "3  http://images.amazon.com/images/P/0609804618.0...   \n",
       "4  http://images.amazon.com/images/P/1879384493.0...   \n",
       "\n",
       "                                         Image-URL-L  \\\n",
       "0  http://images.amazon.com/images/P/0060973129.0...   \n",
       "1  http://images.amazon.com/images/P/0425176428.0...   \n",
       "2  http://images.amazon.com/images/P/0452264464.0...   \n",
       "3  http://images.amazon.com/images/P/0609804618.0...   \n",
       "4  http://images.amazon.com/images/P/1879384493.0...   \n",
       "\n",
       "                                               Title  \\\n",
       "0                               Decision in Normandy   \n",
       "1                                           What if?   \n",
       "2                                            Beloved   \n",
       "3                                   Our dumb century   \n",
       "4  If I'd Known Then What I Know Now: Why Not Lea...   \n",
       "\n",
       "                Description                                           Category  \n",
       "0  No description available  ['Normandy (France)', 'France', 'Campaigns', '...  \n",
       "1  No description available  ['Imaginary wars and battles.', 'Imaginary his...  \n",
       "2  No description available  ['African American History', 'Ohio', 'History'...  \n",
       "3  No description available  ['American wit and humor', 'Headlines', 'Humor...  \n",
       "4  No description available  ['Personal Growth - General', 'Personal & Prac...  "
      ]
     },
     "execution_count": 24,
     "metadata": {},
     "output_type": "execute_result"
    }
   ],
   "source": [
    "merged_book_info.head()"
   ]
  },
  {
   "cell_type": "code",
   "execution_count": 28,
   "id": "00300bac-5ee6-4991-a297-7c079b1266fd",
   "metadata": {},
   "outputs": [],
   "source": [
    "# drop title since book-title already exists\n",
    "merged_book_info = merged_book_info.drop(\"Title\", axis = 1)"
   ]
  },
  {
   "cell_type": "code",
   "execution_count": 34,
   "id": "05f1093c-3fbd-4592-8e7b-29c281b507be",
   "metadata": {},
   "outputs": [],
   "source": [
    "# create new df with just book id, book-title, book-author, year\n",
    "book_info_base = merged_book_info[[\"Book_ID\", \"Book-Title\", \"Book-Author\", \"Year-Of-Publication\", \"Publisher\"]]\n",
    "# create a separate df with book id and description\n",
    "book_description = merged_book_info[[\"Book_ID\", \"Description\"]]\n",
    "# create a separate df with book id and category\n",
    "book_category = merged_book_info[[\"Book_ID\", \"Category\"]]"
   ]
  },
  {
   "cell_type": "code",
   "execution_count": 48,
   "id": "b0fbcfa9-b50c-4a03-84c1-89ebf982398a",
   "metadata": {},
   "outputs": [
    {
     "data": {
      "text/html": [
       "<div>\n",
       "<style scoped>\n",
       "    .dataframe tbody tr th:only-of-type {\n",
       "        vertical-align: middle;\n",
       "    }\n",
       "\n",
       "    .dataframe tbody tr th {\n",
       "        vertical-align: top;\n",
       "    }\n",
       "\n",
       "    .dataframe thead th {\n",
       "        text-align: right;\n",
       "    }\n",
       "</style>\n",
       "<table border=\"1\" class=\"dataframe\">\n",
       "  <thead>\n",
       "    <tr style=\"text-align: right;\">\n",
       "      <th></th>\n",
       "      <th>Book_ID</th>\n",
       "      <th>Category</th>\n",
       "    </tr>\n",
       "  </thead>\n",
       "  <tbody>\n",
       "    <tr>\n",
       "      <th>0</th>\n",
       "      <td>1</td>\n",
       "      <td>['Normandy (France)', 'France', 'Campaigns', '...</td>\n",
       "    </tr>\n",
       "    <tr>\n",
       "      <th>1</th>\n",
       "      <td>3</td>\n",
       "      <td>['Imaginary wars and battles.', 'Imaginary his...</td>\n",
       "    </tr>\n",
       "    <tr>\n",
       "      <th>2</th>\n",
       "      <td>4</td>\n",
       "      <td>['African American History', 'Ohio', 'History'...</td>\n",
       "    </tr>\n",
       "    <tr>\n",
       "      <th>3</th>\n",
       "      <td>5</td>\n",
       "      <td>['American wit and humor', 'Headlines', 'Humor...</td>\n",
       "    </tr>\n",
       "    <tr>\n",
       "      <th>4</th>\n",
       "      <td>7</td>\n",
       "      <td>['Personal Growth - General', 'Personal &amp; Prac...</td>\n",
       "    </tr>\n",
       "  </tbody>\n",
       "</table>\n",
       "</div>"
      ],
      "text/plain": [
       "   Book_ID                                           Category\n",
       "0        1  ['Normandy (France)', 'France', 'Campaigns', '...\n",
       "1        3  ['Imaginary wars and battles.', 'Imaginary his...\n",
       "2        4  ['African American History', 'Ohio', 'History'...\n",
       "3        5  ['American wit and humor', 'Headlines', 'Humor...\n",
       "4        7  ['Personal Growth - General', 'Personal & Prac..."
      ]
     },
     "execution_count": 48,
     "metadata": {},
     "output_type": "execute_result"
    }
   ],
   "source": [
    "book_category.head()"
   ]
  },
  {
   "cell_type": "code",
   "execution_count": 50,
   "id": "35ee7aeb-2c29-4f7d-a30d-6d24857971fb",
   "metadata": {},
   "outputs": [],
   "source": [
    "all_cat = book_category[\"Category\"].explode()"
   ]
  },
  {
   "cell_type": "code",
   "execution_count": 582,
   "id": "259c8f8f-5b5a-4eb4-98e0-b9ff13c4c7d3",
   "metadata": {},
   "outputs": [
    {
     "data": {
      "text/plain": [
       "0        ['Normandy (France)', 'France', 'Campaigns', '...\n",
       "1        ['Imaginary wars and battles.', 'Imaginary his...\n",
       "2        ['African American History', 'Ohio', 'History'...\n",
       "3        ['American wit and humor', 'Headlines', 'Humor...\n",
       "4        ['Personal Growth - General', 'Personal & Prac...\n",
       "                               ...                        \n",
       "16373    ['Pastoral psychology', 'Psychology, applied',...\n",
       "16374                                                  NaN\n",
       "16375    ['Fiction - Romance', 'Romance - General', 'La...\n",
       "16376                                 ['Fiction, general']\n",
       "16377                               ['ELT graded readers']\n",
       "Name: Category, Length: 16378, dtype: object"
      ]
     },
     "execution_count": 582,
     "metadata": {},
     "output_type": "execute_result"
    }
   ],
   "source": [
    "all_cat"
   ]
  },
  {
   "cell_type": "code",
   "execution_count": 54,
   "id": "aa84583a-1873-4dc9-ae08-a6994c510243",
   "metadata": {},
   "outputs": [
    {
     "data": {
      "text/plain": [
       "(13341,)"
      ]
     },
     "execution_count": 54,
     "metadata": {},
     "output_type": "execute_result"
    }
   ],
   "source": [
    "all_cat.unique().shape"
   ]
  },
  {
   "cell_type": "markdown",
   "id": "2f61aff2-e104-4c6e-a624-1013bbcdf88d",
   "metadata": {},
   "source": [
    "# Implement using book categories\n",
    "We can look at a matrix of items x features then find similar books"
   ]
  },
  {
   "cell_type": "markdown",
   "id": "769fe489-bf24-4920-b007-a1b7b3e7fb27",
   "metadata": {},
   "source": [
    "#### First process the category df. There are 16378 books with 13341 unique category, doing MultiLabelBinarizer might not be the best. Try applying count vectorizer then SVD to reduce dimensionality. "
   ]
  },
  {
   "cell_type": "code",
   "execution_count": 599,
   "id": "b6675e88-f926-4fbc-86da-9a43abdfe75a",
   "metadata": {},
   "outputs": [],
   "source": [
    "# remove books without category\n",
    "book_category_clean = book_category.dropna()"
   ]
  },
  {
   "cell_type": "code",
   "execution_count": 621,
   "id": "b0c7c433-2535-40dc-b81a-e03f8f8595c1",
   "metadata": {},
   "outputs": [],
   "source": [
    "from sklearn.feature_extraction.text import CountVectorizer\n",
    "from sklearn.feature_extraction.text import TfidfTransformer\n",
    "# apply count vectorizer\n",
    "vectorizer = CountVectorizer(stop_words = \"english\")\n",
    "vec_cats = vectorizer.fit_transform(book_category_clean[\"Category\"])\n",
    "\n",
    "# apply tfidf\n",
    "tfidf = TfidfTransformer()\n",
    "cat_tfidf = tfidf.fit_transform(vec_cats)"
   ]
  },
  {
   "cell_type": "code",
   "execution_count": 656,
   "id": "8f081f11-2f43-4de0-8d64-f6a64758e010",
   "metadata": {},
   "outputs": [],
   "source": [
    "explained_variances = []\n",
    "for n in range(1, 1000, 50):\n",
    "    svd = TruncatedSVD(n_components=n, random_state=42)\n",
    "    svd.fit(cat_tfidf)\n",
    "    explained_variances.append(np.sum(svd.explained_variance_ratio_))"
   ]
  },
  {
   "cell_type": "code",
   "execution_count": 657,
   "id": "d941aa24-2604-4820-bad2-2c7c9c655539",
   "metadata": {},
   "outputs": [
    {
     "data": {
      "image/png": "[encoded data removed]",
      "text/plain": [
       "<Figure size 1000x600 with 1 Axes>"
      ]
     },
     "metadata": {},
     "output_type": "display_data"
    }
   ],
   "source": [
    "# Plotting cumulative explained variance\n",
    "plt.figure(figsize=(10, 6))\n",
    "plt.plot(range(1, 1000,50), explained_variances, marker='o')\n",
    "plt.xlabel('Number of Components')\n",
    "plt.ylabel('Cumulative Explained Variance')\n",
    "plt.title('SVD Components vs. Explained Variance')\n",
    "plt.grid(True)\n",
    "plt.show()"
   ]
  },
  {
   "cell_type": "markdown",
   "id": "2edac067-fd21-414f-9785-fe5fc94300ae",
   "metadata": {
    "jp-MarkdownHeadingCollapsed": true
   },
   "source": [
    "#### around 1000 components out of 14000 is enough for SVD"
   ]
  },
  {
   "cell_type": "code",
   "execution_count": 747,
   "id": "06cb826c-aa76-42a4-8318-7710c7c99ad5",
   "metadata": {},
   "outputs": [],
   "source": [
    "svd_optimal = TruncatedSVD(n_components=1000, random_state=42)\n",
    "svd_optimal.fit(cat_tfidf)\n",
    "category_svd = svd_optimal.transform(cat_tfidf)"
   ]
  },
  {
   "cell_type": "code",
   "execution_count": 748,
   "id": "b35d2b02-5eea-4490-a0af-96297c10e85c",
   "metadata": {},
   "outputs": [
    {
     "data": {
      "text/plain": [
       "(15678, 1000)"
      ]
     },
     "execution_count": 748,
     "metadata": {},
     "output_type": "execute_result"
    }
   ],
   "source": [
    "category_svd.shape"
   ]
  },
  {
   "cell_type": "markdown",
   "id": "57c73ebd-81d4-4bbe-af09-dcce36a67753",
   "metadata": {
    "jp-MarkdownHeadingCollapsed": true
   },
   "source": [
    "#### Also apply SVD on the user-rating matrix to reduce dimensionality"
   ]
  },
  {
   "cell_type": "code",
   "execution_count": 745,
   "id": "27314cfc-141b-459c-b64d-c6d6a3b38567",
   "metadata": {},
   "outputs": [],
   "source": [
    "# only get use books with categories in them \n",
    "cat_matrix = filled_matrix.loc[:, filled_matrix.columns.isin(book_category_clean[\"Book_ID\"])]"
   ]
  },
  {
   "cell_type": "code",
   "execution_count": 709,
   "id": "96f2022f-994e-461c-9251-289dd12899d7",
   "metadata": {},
   "outputs": [
    {
     "data": {
      "text/plain": [
       "(13315, 1295)"
      ]
     },
     "execution_count": 709,
     "metadata": {},
     "output_type": "execute_result"
    }
   ],
   "source": [
    "item_user_rating_cat = cat_matrix.T\n",
    "item_user_rating_cat.shape"
   ]
  },
  {
   "cell_type": "code",
   "execution_count": 711,
   "id": "c3cb613f-f953-410a-b5c5-20d1ec93b6a4",
   "metadata": {},
   "outputs": [],
   "source": [
    "explained_variances = []\n",
    "for n in range(1, 1000, 50):\n",
    "    svd = TruncatedSVD(n_components=n, random_state=42)\n",
    "    svd.fit(item_user_rating_cat)\n",
    "    explained_variances.append(np.sum(svd.explained_variance_ratio_))"
   ]
  },
  {
   "cell_type": "code",
   "execution_count": 712,
   "id": "e611c7b6-540c-4833-8dfe-94b79015c999",
   "metadata": {},
   "outputs": [
    {
     "data": {
      "image/png": "[encoded data removed]",
      "text/plain": [
       "<Figure size 1000x600 with 1 Axes>"
      ]
     },
     "metadata": {},
     "output_type": "display_data"
    }
   ],
   "source": [
    "# Plotting cumulative explained variance\n",
    "plt.figure(figsize=(10, 6))\n",
    "plt.plot(range(1, 1000,50), explained_variances, marker='o')\n",
    "plt.xlabel('Number of Components')\n",
    "plt.ylabel('Cumulative Explained Variance')\n",
    "plt.title('SVD Components vs. Explained Variance')\n",
    "plt.grid(True)\n",
    "plt.show()"
   ]
  },
  {
   "cell_type": "markdown",
   "id": "42dc365f-3f6d-4fd9-b398-c33280c87f72",
   "metadata": {},
   "source": [
    "#### Around 600 components out of 1295 is enough for SVD"
   ]
  },
  {
   "cell_type": "code",
   "execution_count": 723,
   "id": "3d24b4ef-22b8-47a5-aca4-cb7cf02dd430",
   "metadata": {},
   "outputs": [],
   "source": [
    "svd_ratings = TruncatedSVD(n_components=600, random_state=42)\n",
    "svd_ratings.fit(item_user_rating_cat)\n",
    "user_rating_svd = svd_ratings.transform(item_user_rating_cat)"
   ]
  },
  {
   "cell_type": "code",
   "execution_count": 751,
   "id": "73ee68e5-103e-469e-be2d-946b281aaf9c",
   "metadata": {},
   "outputs": [],
   "source": [
    "# convert svd to a df\n",
    "cat_svd_df = pd.DataFrame(category_svd, index = book_category_clean[\"Book_ID\"])\n",
    "user_rating_svd_df = pd.DataFrame(user_rating_svd, index = item_user_rating_cat.index)"
   ]
  },
  {
   "cell_type": "code",
   "execution_count": 753,
   "id": "5f6a1d21-b865-420f-b9aa-195ccad92369",
   "metadata": {},
   "outputs": [],
   "source": [
    "# join user ratings and category svd\n",
    "item_user_cat = pd.concat([user_rating_svd_df, cat_svd_df], axis = 1, join = \"inner\")"
   ]
  },
  {
   "cell_type": "code",
   "execution_count": 755,
   "id": "45560964-5ac0-4788-b921-c5b0cefb760a",
   "metadata": {},
   "outputs": [
    {
     "data": {
      "text/plain": [
       "(13315, 1600)"
      ]
     },
     "execution_count": 755,
     "metadata": {},
     "output_type": "execute_result"
    }
   ],
   "source": [
    "item_user_cat.shape"
   ]
  },
  {
   "cell_type": "code",
   "execution_count": 814,
   "id": "840728a5-6a0d-496a-93d2-677db6108c2c",
   "metadata": {},
   "outputs": [],
   "source": [
    "# create function that compares item similarities \n",
    "def similar_category(book_id, data_matrix, book_db, k = 10):\n",
    "    # book_id, which book(s) they like to find similar recs\n",
    "    # data_matrix is the item X features matrix (this includes ratings and categories)\n",
    "    # book_db is used to match titles\n",
    "    # k is how many books to recommend\n",
    "    from sklearn.preprocessing import StandardScaler\n",
    "    from sklearn.metrics.pairwise import cosine_similarity\n",
    "\n",
    "    # standard scale the ratings and categories\n",
    "    scaler = StandardScaler()\n",
    "    scaled_matrix = scaler.fit_transform(data_matrix)\n",
    "\n",
    "    # put this scaled matrix back into a dataframe to preserve index\n",
    "    data_matrix_scaled = pd.DataFrame(scaled_matrix, index = data_matrix.index, columns = data_matrix.columns)\n",
    "    # Compute cosine similarity\n",
    "    cosine_sim = cosine_similarity(data_matrix_scaled)\n",
    "    # Create df for cosine sims (item x item)\n",
    "    cosine_sim_df = pd.DataFrame(cosine_sim, index=data_matrix_scaled.index, columns=data_matrix_scaled.index)\n",
    "\n",
    "    \n",
    "    combined_sims = pd.Series(dtype = \"float64\")\n",
    "\n",
    "    book_sim = cosine_sim_df.loc[book_id]\n",
    "    for ind in book_id:\n",
    "        current_sims = book_sim.loc[ind].drop(ind)\n",
    "        combined_sims = pd.concat([combined_sims, current_sims])\n",
    "\n",
    "    # after combining sims, there will be duplicate entries for the sims, just keep the max sims for each book then sort\n",
    "    final_sims = combined_sims.groupby(combined_sims.index).max().sort_values(ascending = False)\n",
    "\n",
    "    book_rec = final_sims.iloc[:k]\n",
    "    book_rec_index = book_rec.index\n",
    "\n",
    "    rec_titles = book_db[book_db[\"Book_ID\"].isin(book_rec_index)][\"Book-Title\"]\n",
    "\n",
    "    input_book = book_db[book_db[\"Book_ID\"].isin(book_id)][\"Book-Title\"]\n",
    "    print(\"The input book(s):\\n\")\n",
    "    for title in input_book.to_list():\n",
    "        print(title)\n",
    "    \n",
    "    print(\"------------------------------------------------------------\")\n",
    "    print(f\"Top {k} recommendations are the following:\\n\")\n",
    "    for title in rec_titles.to_list():\n",
    "        print(title)\n",
    "    return"
   ]
  },
  {
   "cell_type": "code",
   "execution_count": 816,
   "id": "e09c5db7-9fdf-4566-a940-9ac206cd0c2a",
   "metadata": {},
   "outputs": [
    {
     "name": "stdout",
     "output_type": "stream",
     "text": [
      "The input book(s):\n",
      "\n",
      "Whisper of Evil (Hooper, Kay. Evil Trilogy.)\n",
      "------------------------------------------------------------\n",
      "Top 5 recommendations are the following:\n",
      "\n",
      "Hiding in the Shadows (Shadows Trilogy (Paperback))\n",
      "Club Dead (Southern Vampire Mysteries)\n",
      "Last Breath\n",
      "Shadow Dance\n",
      "The Inheritor (\\Light\\)\n"
     ]
    }
   ],
   "source": [
    "similar_category([80], item_user_cat, merged_book_info, 5)"
   ]
  },
  {
   "cell_type": "code",
   "execution_count": 818,
   "id": "8da58d1e-5665-48f2-9098-ec3b41b601ca",
   "metadata": {},
   "outputs": [
    {
     "name": "stdout",
     "output_type": "stream",
     "text": [
      "The input book(s):\n",
      "\n",
      "Lena (50 State Quarters)\n",
      "Strange but True\n",
      "The Protocol\n",
      "------------------------------------------------------------\n",
      "Top 5 recommendations are the following:\n",
      "\n",
      "The Fourth Hand\n",
      "Positive Match\n",
      "Saving Jessica\n",
      "Miracle Baby  (9 Months Later) (Harlequin Super Romances, No 736)\n",
      "Steffie Can't Come Out to Play\n"
     ]
    }
   ],
   "source": [
    "similar_category([468, 2208, 4149], item_user_cat, merged_book_info, 5)"
   ]
  },
  {
   "cell_type": "code",
   "execution_count": 820,
   "id": "0d6a0cf0-0605-4ee6-bd0b-683e2289f9a8",
   "metadata": {},
   "outputs": [
    {
     "name": "stdout",
     "output_type": "stream",
     "text": [
      "The input book(s):\n",
      "\n",
      "Tis : A Memoir\n",
      "The Reader\n",
      "Jurassic Park\n",
      "A Thousand Words for Stranger (Daw Book Collectors)\n",
      "The Lord of the Rings (Movie Art Cover)\n",
      "The Egg and I\n",
      "------------------------------------------------------------\n",
      "Top 5 recommendations are the following:\n",
      "\n",
      "The Fellowship of the Ring\n",
      "The Fellowship of the Ring (The Lord of the Rings, Part 1)\n",
      "The Lord of the Rings\n",
      "The Return of the King (The Lord of the Rings, Part 3)\n",
      "The Lord of the Rings\n"
     ]
    }
   ],
   "source": [
    "similar_category([137, 416, 642, 872, 2842, 7272], item_user_cat, merged_book_info, 5)"
   ]
  },
  {
   "cell_type": "markdown",
   "id": "8c4773f9-bcac-4dd9-b9a8-f6d7277d8b87",
   "metadata": {},
   "source": [
    "# Implement using book description\n",
    "We can look at user ratings, find their top n books then recommend k similar books to users."
   ]
  },
  {
   "cell_type": "markdown",
   "id": "5106ca87-a788-4ab1-ab61-22be7be8ac83",
   "metadata": {},
   "source": [
    "#### Vectorize the description df with CountVectorizer, then apply TfidfTransformer"
   ]
  },
  {
   "cell_type": "code",
   "execution_count": 64,
   "id": "ba0e2da6-1324-4154-9400-12975dce7425",
   "metadata": {},
   "outputs": [],
   "source": [
    "# remove books without description\n",
    "books_with_desc = book_description[book_description[\"Description\"] != \"No description available\"]"
   ]
  },
  {
   "cell_type": "code",
   "execution_count": 66,
   "id": "388a313f-da55-4be1-913c-9b0cc620fea7",
   "metadata": {},
   "outputs": [
    {
     "data": {
      "text/plain": [
       "(2748, 2)"
      ]
     },
     "execution_count": 66,
     "metadata": {},
     "output_type": "execute_result"
    }
   ],
   "source": [
    "books_with_desc.shape"
   ]
  },
  {
   "cell_type": "code",
   "execution_count": 100,
   "id": "ae7cb578-1a79-47eb-9498-568ce0bb1d54",
   "metadata": {},
   "outputs": [
    {
     "data": {
      "text/html": [
       "<div>\n",
       "<style scoped>\n",
       "    .dataframe tbody tr th:only-of-type {\n",
       "        vertical-align: middle;\n",
       "    }\n",
       "\n",
       "    .dataframe tbody tr th {\n",
       "        vertical-align: top;\n",
       "    }\n",
       "\n",
       "    .dataframe thead th {\n",
       "        text-align: right;\n",
       "    }\n",
       "</style>\n",
       "<table border=\"1\" class=\"dataframe\">\n",
       "  <thead>\n",
       "    <tr style=\"text-align: right;\">\n",
       "      <th></th>\n",
       "      <th>Book_ID</th>\n",
       "      <th>Description</th>\n",
       "    </tr>\n",
       "  </thead>\n",
       "  <tbody>\n",
       "    <tr>\n",
       "      <th>5</th>\n",
       "      <td>8</td>\n",
       "      <td>Three passengers are dead. Fifty-six are injur...</td>\n",
       "    </tr>\n",
       "    <tr>\n",
       "      <th>6</th>\n",
       "      <td>9</td>\n",
       "      <td>In an Arizona desert, a man wanders in a daze,...</td>\n",
       "    </tr>\n",
       "    <tr>\n",
       "      <th>24</th>\n",
       "      <td>28</td>\n",
       "      <td>When eleven-year old Shabanu, the daughter of ...</td>\n",
       "    </tr>\n",
       "    <tr>\n",
       "      <th>25</th>\n",
       "      <td>29</td>\n",
       "      <td>Having relented to the ways of her people in P...</td>\n",
       "    </tr>\n",
       "    <tr>\n",
       "      <th>31</th>\n",
       "      <td>35</td>\n",
       "      <td>The how of Pooh? The Tao of who? The Tao of Po...</td>\n",
       "    </tr>\n",
       "  </tbody>\n",
       "</table>\n",
       "</div>"
      ],
      "text/plain": [
       "    Book_ID                                        Description\n",
       "5         8  Three passengers are dead. Fifty-six are injur...\n",
       "6         9  In an Arizona desert, a man wanders in a daze,...\n",
       "24       28  When eleven-year old Shabanu, the daughter of ...\n",
       "25       29  Having relented to the ways of her people in P...\n",
       "31       35  The how of Pooh? The Tao of who? The Tao of Po..."
      ]
     },
     "execution_count": 100,
     "metadata": {},
     "output_type": "execute_result"
    }
   ],
   "source": [
    "books_with_desc.head()"
   ]
  },
  {
   "cell_type": "code",
   "execution_count": 623,
   "id": "d1b7ee65-47c4-4c19-9272-c3c6ae0874d0",
   "metadata": {},
   "outputs": [],
   "source": [
    "from sklearn.feature_extraction.text import CountVectorizer\n",
    "from sklearn.feature_extraction.text import TfidfTransformer\n",
    "from sklearn.decomposition import TruncatedSVD\n",
    "\n",
    "vectorizer = CountVectorizer(stop_words = \"english\")\n",
    "vec_words = vectorizer.fit_transform(books_with_desc[\"Description\"])\n",
    "\n",
    "tfidf = TfidfTransformer()\n",
    "vec_tfidf = tfidf.fit_transform(vec_words)"
   ]
  },
  {
   "cell_type": "code",
   "execution_count": 482,
   "id": "ff0310e1-b6af-4b2e-ab90-d13ac1fc5fd3",
   "metadata": {},
   "outputs": [
    {
     "data": {
      "text/html": [
       "<div>\n",
       "<style scoped>\n",
       "    .dataframe tbody tr th:only-of-type {\n",
       "        vertical-align: middle;\n",
       "    }\n",
       "\n",
       "    .dataframe tbody tr th {\n",
       "        vertical-align: top;\n",
       "    }\n",
       "\n",
       "    .dataframe thead th {\n",
       "        text-align: right;\n",
       "    }\n",
       "</style>\n",
       "<table border=\"1\" class=\"dataframe\">\n",
       "  <thead>\n",
       "    <tr style=\"text-align: right;\">\n",
       "      <th></th>\n",
       "      <th>00</th>\n",
       "      <th>000</th>\n",
       "      <th>05</th>\n",
       "      <th>0l</th>\n",
       "      <th>0s</th>\n",
       "      <th>10</th>\n",
       "      <th>100</th>\n",
       "      <th>101</th>\n",
       "      <th>1023</th>\n",
       "      <th>1030l</th>\n",
       "      <th>...</th>\n",
       "      <th>étonnante</th>\n",
       "      <th>éxito</th>\n",
       "      <th>última</th>\n",
       "      <th>últimas</th>\n",
       "      <th>último</th>\n",
       "      <th>últimos</th>\n",
       "      <th>única</th>\n",
       "      <th>über</th>\n",
       "      <th>überlebens</th>\n",
       "      <th>übertrifft</th>\n",
       "    </tr>\n",
       "    <tr>\n",
       "      <th>Book_ID</th>\n",
       "      <th></th>\n",
       "      <th></th>\n",
       "      <th></th>\n",
       "      <th></th>\n",
       "      <th></th>\n",
       "      <th></th>\n",
       "      <th></th>\n",
       "      <th></th>\n",
       "      <th></th>\n",
       "      <th></th>\n",
       "      <th></th>\n",
       "      <th></th>\n",
       "      <th></th>\n",
       "      <th></th>\n",
       "      <th></th>\n",
       "      <th></th>\n",
       "      <th></th>\n",
       "      <th></th>\n",
       "      <th></th>\n",
       "      <th></th>\n",
       "      <th></th>\n",
       "    </tr>\n",
       "  </thead>\n",
       "  <tbody>\n",
       "    <tr>\n",
       "      <th>8</th>\n",
       "      <td>0.0</td>\n",
       "      <td>0.0</td>\n",
       "      <td>0.0</td>\n",
       "      <td>0.0</td>\n",
       "      <td>0.0</td>\n",
       "      <td>0.0</td>\n",
       "      <td>0.0</td>\n",
       "      <td>0.0</td>\n",
       "      <td>0.0</td>\n",
       "      <td>0.0</td>\n",
       "      <td>...</td>\n",
       "      <td>0.0</td>\n",
       "      <td>0.0</td>\n",
       "      <td>0.0</td>\n",
       "      <td>0.0</td>\n",
       "      <td>0.0</td>\n",
       "      <td>0.0</td>\n",
       "      <td>0.0</td>\n",
       "      <td>0.0</td>\n",
       "      <td>0.0</td>\n",
       "      <td>0.0</td>\n",
       "    </tr>\n",
       "    <tr>\n",
       "      <th>9</th>\n",
       "      <td>0.0</td>\n",
       "      <td>0.0</td>\n",
       "      <td>0.0</td>\n",
       "      <td>0.0</td>\n",
       "      <td>0.0</td>\n",
       "      <td>0.0</td>\n",
       "      <td>0.0</td>\n",
       "      <td>0.0</td>\n",
       "      <td>0.0</td>\n",
       "      <td>0.0</td>\n",
       "      <td>...</td>\n",
       "      <td>0.0</td>\n",
       "      <td>0.0</td>\n",
       "      <td>0.0</td>\n",
       "      <td>0.0</td>\n",
       "      <td>0.0</td>\n",
       "      <td>0.0</td>\n",
       "      <td>0.0</td>\n",
       "      <td>0.0</td>\n",
       "      <td>0.0</td>\n",
       "      <td>0.0</td>\n",
       "    </tr>\n",
       "    <tr>\n",
       "      <th>28</th>\n",
       "      <td>0.0</td>\n",
       "      <td>0.0</td>\n",
       "      <td>0.0</td>\n",
       "      <td>0.0</td>\n",
       "      <td>0.0</td>\n",
       "      <td>0.0</td>\n",
       "      <td>0.0</td>\n",
       "      <td>0.0</td>\n",
       "      <td>0.0</td>\n",
       "      <td>0.0</td>\n",
       "      <td>...</td>\n",
       "      <td>0.0</td>\n",
       "      <td>0.0</td>\n",
       "      <td>0.0</td>\n",
       "      <td>0.0</td>\n",
       "      <td>0.0</td>\n",
       "      <td>0.0</td>\n",
       "      <td>0.0</td>\n",
       "      <td>0.0</td>\n",
       "      <td>0.0</td>\n",
       "      <td>0.0</td>\n",
       "    </tr>\n",
       "    <tr>\n",
       "      <th>29</th>\n",
       "      <td>0.0</td>\n",
       "      <td>0.0</td>\n",
       "      <td>0.0</td>\n",
       "      <td>0.0</td>\n",
       "      <td>0.0</td>\n",
       "      <td>0.0</td>\n",
       "      <td>0.0</td>\n",
       "      <td>0.0</td>\n",
       "      <td>0.0</td>\n",
       "      <td>0.0</td>\n",
       "      <td>...</td>\n",
       "      <td>0.0</td>\n",
       "      <td>0.0</td>\n",
       "      <td>0.0</td>\n",
       "      <td>0.0</td>\n",
       "      <td>0.0</td>\n",
       "      <td>0.0</td>\n",
       "      <td>0.0</td>\n",
       "      <td>0.0</td>\n",
       "      <td>0.0</td>\n",
       "      <td>0.0</td>\n",
       "    </tr>\n",
       "    <tr>\n",
       "      <th>35</th>\n",
       "      <td>0.0</td>\n",
       "      <td>0.0</td>\n",
       "      <td>0.0</td>\n",
       "      <td>0.0</td>\n",
       "      <td>0.0</td>\n",
       "      <td>0.0</td>\n",
       "      <td>0.0</td>\n",
       "      <td>0.0</td>\n",
       "      <td>0.0</td>\n",
       "      <td>0.0</td>\n",
       "      <td>...</td>\n",
       "      <td>0.0</td>\n",
       "      <td>0.0</td>\n",
       "      <td>0.0</td>\n",
       "      <td>0.0</td>\n",
       "      <td>0.0</td>\n",
       "      <td>0.0</td>\n",
       "      <td>0.0</td>\n",
       "      <td>0.0</td>\n",
       "      <td>0.0</td>\n",
       "      <td>0.0</td>\n",
       "    </tr>\n",
       "  </tbody>\n",
       "</table>\n",
       "<p>5 rows × 22106 columns</p>\n",
       "</div>"
      ],
      "text/plain": [
       "          00  000   05   0l   0s   10  100  101  1023  1030l  ...  étonnante  \\\n",
       "Book_ID                                                       ...              \n",
       "8        0.0  0.0  0.0  0.0  0.0  0.0  0.0  0.0   0.0    0.0  ...        0.0   \n",
       "9        0.0  0.0  0.0  0.0  0.0  0.0  0.0  0.0   0.0    0.0  ...        0.0   \n",
       "28       0.0  0.0  0.0  0.0  0.0  0.0  0.0  0.0   0.0    0.0  ...        0.0   \n",
       "29       0.0  0.0  0.0  0.0  0.0  0.0  0.0  0.0   0.0    0.0  ...        0.0   \n",
       "35       0.0  0.0  0.0  0.0  0.0  0.0  0.0  0.0   0.0    0.0  ...        0.0   \n",
       "\n",
       "         éxito  última  últimas  último  últimos  única  über  überlebens  \\\n",
       "Book_ID                                                                     \n",
       "8          0.0     0.0      0.0     0.0      0.0    0.0   0.0         0.0   \n",
       "9          0.0     0.0      0.0     0.0      0.0    0.0   0.0         0.0   \n",
       "28         0.0     0.0      0.0     0.0      0.0    0.0   0.0         0.0   \n",
       "29         0.0     0.0      0.0     0.0      0.0    0.0   0.0         0.0   \n",
       "35         0.0     0.0      0.0     0.0      0.0    0.0   0.0         0.0   \n",
       "\n",
       "         übertrifft  \n",
       "Book_ID              \n",
       "8               0.0  \n",
       "9               0.0  \n",
       "28              0.0  \n",
       "29              0.0  \n",
       "35              0.0  \n",
       "\n",
       "[5 rows x 22106 columns]"
      ]
     },
     "execution_count": 482,
     "metadata": {},
     "output_type": "execute_result"
    }
   ],
   "source": [
    "tfidf_desc = pd.DataFrame(vec_tfidf.toarray(), columns=vectorizer.get_feature_names_out(), index = books_with_desc[\"Book_ID\"])\n",
    "tfidf_desc.head()"
   ]
  },
  {
   "cell_type": "markdown",
   "id": "6fa5279e-0302-43da-a5ea-4d788e27a020",
   "metadata": {},
   "source": [
    "## Create a function that does the following\n",
    "1. look at the top rated books by a user (top n percentile, to account for user rating preference, remove 0 when ranking)\n",
    "3. for each book find top similar books (make sure to normalize when doing this step)\n",
    "4. after finding similar books, sort then recommend top k books\n",
    "5. use book id to reference merged_book_info to get title"
   ]
  },
  {
   "cell_type": "code",
   "execution_count": 812,
   "id": "0a9e570b-3d2f-47b5-8555-59aba5cb63fe",
   "metadata": {},
   "outputs": [],
   "source": [
    "def content_similarity(user_scores, data_matrix, book_db, k = 10, n = 0.75):\n",
    "    # user_scores is pd series of scores \n",
    "    # data matrix is the feature matrix\n",
    "    # book_db is the df that maps book_id and title\n",
    "    # n is the percentile, default is 75th percentile\n",
    "    # k is how many books to recommend\n",
    "\n",
    "    from sklearn.metrics.pairwise import cosine_similarity\n",
    "\n",
    "    # Compute cosine similarity\n",
    "    cosine_sim = cosine_similarity(data_matrix)\n",
    "    \n",
    "    # Create df for cosine sims (item x item)\n",
    "    cosine_sim_df = pd.DataFrame(cosine_sim, index=data_matrix.index, columns=data_matrix.index)\n",
    "    \n",
    "    filtered_ratings = user_scores[user_scores != 0]\n",
    "    percentile_n = filtered_ratings[filtered_ratings >= filtered_ratings.quantile(n)]\n",
    "    top_index = percentile_n.index\n",
    "\n",
    "    book_sim = cosine_sim_df.loc[top_index]\n",
    "\n",
    "    # initialize an empty series\n",
    "    combined_sims = pd.Series(dtype = \"float64\")\n",
    "\n",
    "    for ind in top_index:\n",
    "        current_sims = book_sim.loc[ind].drop(ind)\n",
    "        combined_sims = pd.concat([combined_sims, current_sims])\n",
    "\n",
    "    # after combining sims, there will be duplicate entries for the sims, just keep the max sims for each book then sort\n",
    "    final_sims = combined_sims.groupby(combined_sims.index).max().sort_values(ascending = False)\n",
    "\n",
    "    book_rec = final_sims.iloc[:k]\n",
    "    book_rec_index = book_rec.index\n",
    "\n",
    "    rec_titles = book_db[book_db[\"Book_ID\"].isin(book_rec_index)][\"Book-Title\"]\n",
    "\n",
    "    top_rated_titles = book_db[book_db[\"Book_ID\"].isin(top_index)][\"Book-Title\"]\n",
    "    print(\"Top rated books by the user are the following:\\n\")\n",
    "    for title in top_rated_titles.to_list():\n",
    "        print(title)\n",
    "    \n",
    "    print(\"------------------------------------------------------------\")\n",
    "    print(f\"Top {k} recommendations for the user are the following:\\n\")\n",
    "    for title in rec_titles.to_list():\n",
    "        print(title)\n",
    "    return"
   ]
  },
  {
   "cell_type": "code",
   "execution_count": 130,
   "id": "20d1605d-236b-48ae-b97a-0c11e9d7208d",
   "metadata": {},
   "outputs": [
    {
     "data": {
      "text/plain": [
       "(1295, 2371)"
      ]
     },
     "execution_count": 130,
     "metadata": {},
     "output_type": "execute_result"
    }
   ],
   "source": [
    "# create user-item matrix with only books that have description available. \n",
    "desc_matrix = filled_matrix.loc[:, filled_matrix.columns.isin(book_desc_tf[\"Book_ID\"])]\n",
    "desc_matrix.shape"
   ]
  },
  {
   "cell_type": "code",
   "execution_count": 128,
   "id": "a76d5b8f-9d52-4eee-a16e-a53906bf2d2a",
   "metadata": {},
   "outputs": [
    {
     "data": {
      "text/html": [
       "<div>\n",
       "<style scoped>\n",
       "    .dataframe tbody tr th:only-of-type {\n",
       "        vertical-align: middle;\n",
       "    }\n",
       "\n",
       "    .dataframe tbody tr th {\n",
       "        vertical-align: top;\n",
       "    }\n",
       "\n",
       "    .dataframe thead th {\n",
       "        text-align: right;\n",
       "    }\n",
       "</style>\n",
       "<table border=\"1\" class=\"dataframe\">\n",
       "  <thead>\n",
       "    <tr style=\"text-align: right;\">\n",
       "      <th>item</th>\n",
       "      <th>8</th>\n",
       "      <th>9</th>\n",
       "      <th>28</th>\n",
       "      <th>29</th>\n",
       "      <th>35</th>\n",
       "      <th>39</th>\n",
       "      <th>45</th>\n",
       "      <th>54</th>\n",
       "      <th>58</th>\n",
       "      <th>68</th>\n",
       "      <th>...</th>\n",
       "      <th>17277</th>\n",
       "      <th>17278</th>\n",
       "      <th>17287</th>\n",
       "      <th>17294</th>\n",
       "      <th>17303</th>\n",
       "      <th>17305</th>\n",
       "      <th>17319</th>\n",
       "      <th>17320</th>\n",
       "      <th>17344</th>\n",
       "      <th>17351</th>\n",
       "    </tr>\n",
       "    <tr>\n",
       "      <th>user</th>\n",
       "      <th></th>\n",
       "      <th></th>\n",
       "      <th></th>\n",
       "      <th></th>\n",
       "      <th></th>\n",
       "      <th></th>\n",
       "      <th></th>\n",
       "      <th></th>\n",
       "      <th></th>\n",
       "      <th></th>\n",
       "      <th></th>\n",
       "      <th></th>\n",
       "      <th></th>\n",
       "      <th></th>\n",
       "      <th></th>\n",
       "      <th></th>\n",
       "      <th></th>\n",
       "      <th></th>\n",
       "      <th></th>\n",
       "      <th></th>\n",
       "      <th></th>\n",
       "    </tr>\n",
       "  </thead>\n",
       "  <tbody>\n",
       "    <tr>\n",
       "      <th>1</th>\n",
       "      <td>0.0</td>\n",
       "      <td>0.0</td>\n",
       "      <td>0.0</td>\n",
       "      <td>0.0</td>\n",
       "      <td>0.0</td>\n",
       "      <td>0.0</td>\n",
       "      <td>0.0</td>\n",
       "      <td>0.0</td>\n",
       "      <td>0.0</td>\n",
       "      <td>0.0</td>\n",
       "      <td>...</td>\n",
       "      <td>0.0</td>\n",
       "      <td>0.0</td>\n",
       "      <td>0.0</td>\n",
       "      <td>0.0</td>\n",
       "      <td>0.0</td>\n",
       "      <td>0.0</td>\n",
       "      <td>0.0</td>\n",
       "      <td>0.0</td>\n",
       "      <td>0.0</td>\n",
       "      <td>0.0</td>\n",
       "    </tr>\n",
       "    <tr>\n",
       "      <th>2</th>\n",
       "      <td>0.0</td>\n",
       "      <td>0.0</td>\n",
       "      <td>0.0</td>\n",
       "      <td>0.0</td>\n",
       "      <td>0.0</td>\n",
       "      <td>0.0</td>\n",
       "      <td>0.0</td>\n",
       "      <td>0.0</td>\n",
       "      <td>0.0</td>\n",
       "      <td>0.0</td>\n",
       "      <td>...</td>\n",
       "      <td>0.0</td>\n",
       "      <td>0.0</td>\n",
       "      <td>0.0</td>\n",
       "      <td>0.0</td>\n",
       "      <td>0.0</td>\n",
       "      <td>0.0</td>\n",
       "      <td>0.0</td>\n",
       "      <td>0.0</td>\n",
       "      <td>0.0</td>\n",
       "      <td>0.0</td>\n",
       "    </tr>\n",
       "    <tr>\n",
       "      <th>5</th>\n",
       "      <td>0.0</td>\n",
       "      <td>0.0</td>\n",
       "      <td>0.0</td>\n",
       "      <td>0.0</td>\n",
       "      <td>0.0</td>\n",
       "      <td>0.0</td>\n",
       "      <td>0.0</td>\n",
       "      <td>0.0</td>\n",
       "      <td>0.0</td>\n",
       "      <td>0.0</td>\n",
       "      <td>...</td>\n",
       "      <td>0.0</td>\n",
       "      <td>0.0</td>\n",
       "      <td>0.0</td>\n",
       "      <td>0.0</td>\n",
       "      <td>0.0</td>\n",
       "      <td>0.0</td>\n",
       "      <td>0.0</td>\n",
       "      <td>0.0</td>\n",
       "      <td>0.0</td>\n",
       "      <td>0.0</td>\n",
       "    </tr>\n",
       "    <tr>\n",
       "      <th>7</th>\n",
       "      <td>0.0</td>\n",
       "      <td>0.0</td>\n",
       "      <td>0.0</td>\n",
       "      <td>0.0</td>\n",
       "      <td>0.0</td>\n",
       "      <td>0.0</td>\n",
       "      <td>0.0</td>\n",
       "      <td>0.0</td>\n",
       "      <td>0.0</td>\n",
       "      <td>0.0</td>\n",
       "      <td>...</td>\n",
       "      <td>0.0</td>\n",
       "      <td>0.0</td>\n",
       "      <td>0.0</td>\n",
       "      <td>0.0</td>\n",
       "      <td>0.0</td>\n",
       "      <td>0.0</td>\n",
       "      <td>0.0</td>\n",
       "      <td>0.0</td>\n",
       "      <td>0.0</td>\n",
       "      <td>0.0</td>\n",
       "    </tr>\n",
       "    <tr>\n",
       "      <th>9</th>\n",
       "      <td>5.0</td>\n",
       "      <td>0.0</td>\n",
       "      <td>0.0</td>\n",
       "      <td>0.0</td>\n",
       "      <td>0.0</td>\n",
       "      <td>0.0</td>\n",
       "      <td>0.0</td>\n",
       "      <td>0.0</td>\n",
       "      <td>0.0</td>\n",
       "      <td>0.0</td>\n",
       "      <td>...</td>\n",
       "      <td>0.0</td>\n",
       "      <td>0.0</td>\n",
       "      <td>0.0</td>\n",
       "      <td>0.0</td>\n",
       "      <td>0.0</td>\n",
       "      <td>0.0</td>\n",
       "      <td>0.0</td>\n",
       "      <td>0.0</td>\n",
       "      <td>0.0</td>\n",
       "      <td>0.0</td>\n",
       "    </tr>\n",
       "  </tbody>\n",
       "</table>\n",
       "<p>5 rows × 2371 columns</p>\n",
       "</div>"
      ],
      "text/plain": [
       "item  8      9      28     29     35     39     45     54     58     68     \\\n",
       "user                                                                         \n",
       "1       0.0    0.0    0.0    0.0    0.0    0.0    0.0    0.0    0.0    0.0   \n",
       "2       0.0    0.0    0.0    0.0    0.0    0.0    0.0    0.0    0.0    0.0   \n",
       "5       0.0    0.0    0.0    0.0    0.0    0.0    0.0    0.0    0.0    0.0   \n",
       "7       0.0    0.0    0.0    0.0    0.0    0.0    0.0    0.0    0.0    0.0   \n",
       "9       5.0    0.0    0.0    0.0    0.0    0.0    0.0    0.0    0.0    0.0   \n",
       "\n",
       "item  ...  17277  17278  17287  17294  17303  17305  17319  17320  17344  \\\n",
       "user  ...                                                                  \n",
       "1     ...    0.0    0.0    0.0    0.0    0.0    0.0    0.0    0.0    0.0   \n",
       "2     ...    0.0    0.0    0.0    0.0    0.0    0.0    0.0    0.0    0.0   \n",
       "5     ...    0.0    0.0    0.0    0.0    0.0    0.0    0.0    0.0    0.0   \n",
       "7     ...    0.0    0.0    0.0    0.0    0.0    0.0    0.0    0.0    0.0   \n",
       "9     ...    0.0    0.0    0.0    0.0    0.0    0.0    0.0    0.0    0.0   \n",
       "\n",
       "item  17351  \n",
       "user         \n",
       "1       0.0  \n",
       "2       0.0  \n",
       "5       0.0  \n",
       "7       0.0  \n",
       "9       0.0  \n",
       "\n",
       "[5 rows x 2371 columns]"
      ]
     },
     "execution_count": 128,
     "metadata": {},
     "output_type": "execute_result"
    }
   ],
   "source": [
    "desc_matrix.head()"
   ]
  },
  {
   "cell_type": "code",
   "execution_count": 522,
   "id": "cb8841d0-46eb-425d-aa20-ecc268528315",
   "metadata": {},
   "outputs": [
    {
     "data": {
      "text/html": [
       "<div>\n",
       "<style scoped>\n",
       "    .dataframe tbody tr th:only-of-type {\n",
       "        vertical-align: middle;\n",
       "    }\n",
       "\n",
       "    .dataframe tbody tr th {\n",
       "        vertical-align: top;\n",
       "    }\n",
       "\n",
       "    .dataframe thead th {\n",
       "        text-align: right;\n",
       "    }\n",
       "</style>\n",
       "<table border=\"1\" class=\"dataframe\">\n",
       "  <thead>\n",
       "    <tr style=\"text-align: right;\">\n",
       "      <th></th>\n",
       "      <th>00</th>\n",
       "      <th>000</th>\n",
       "      <th>05</th>\n",
       "      <th>0l</th>\n",
       "      <th>0s</th>\n",
       "      <th>10</th>\n",
       "      <th>100</th>\n",
       "      <th>101</th>\n",
       "      <th>1023</th>\n",
       "      <th>1030l</th>\n",
       "      <th>...</th>\n",
       "      <th>étonnante</th>\n",
       "      <th>éxito</th>\n",
       "      <th>última</th>\n",
       "      <th>últimas</th>\n",
       "      <th>último</th>\n",
       "      <th>últimos</th>\n",
       "      <th>única</th>\n",
       "      <th>über</th>\n",
       "      <th>überlebens</th>\n",
       "      <th>übertrifft</th>\n",
       "    </tr>\n",
       "    <tr>\n",
       "      <th>Book_ID</th>\n",
       "      <th></th>\n",
       "      <th></th>\n",
       "      <th></th>\n",
       "      <th></th>\n",
       "      <th></th>\n",
       "      <th></th>\n",
       "      <th></th>\n",
       "      <th></th>\n",
       "      <th></th>\n",
       "      <th></th>\n",
       "      <th></th>\n",
       "      <th></th>\n",
       "      <th></th>\n",
       "      <th></th>\n",
       "      <th></th>\n",
       "      <th></th>\n",
       "      <th></th>\n",
       "      <th></th>\n",
       "      <th></th>\n",
       "      <th></th>\n",
       "      <th></th>\n",
       "    </tr>\n",
       "  </thead>\n",
       "  <tbody>\n",
       "    <tr>\n",
       "      <th>8</th>\n",
       "      <td>0.0</td>\n",
       "      <td>0.0</td>\n",
       "      <td>0.0</td>\n",
       "      <td>0.0</td>\n",
       "      <td>0.0</td>\n",
       "      <td>0.0</td>\n",
       "      <td>0.0</td>\n",
       "      <td>0.0</td>\n",
       "      <td>0.0</td>\n",
       "      <td>0.0</td>\n",
       "      <td>...</td>\n",
       "      <td>0.0</td>\n",
       "      <td>0.0</td>\n",
       "      <td>0.0</td>\n",
       "      <td>0.0</td>\n",
       "      <td>0.0</td>\n",
       "      <td>0.0</td>\n",
       "      <td>0.0</td>\n",
       "      <td>0.0</td>\n",
       "      <td>0.0</td>\n",
       "      <td>0.0</td>\n",
       "    </tr>\n",
       "    <tr>\n",
       "      <th>9</th>\n",
       "      <td>0.0</td>\n",
       "      <td>0.0</td>\n",
       "      <td>0.0</td>\n",
       "      <td>0.0</td>\n",
       "      <td>0.0</td>\n",
       "      <td>0.0</td>\n",
       "      <td>0.0</td>\n",
       "      <td>0.0</td>\n",
       "      <td>0.0</td>\n",
       "      <td>0.0</td>\n",
       "      <td>...</td>\n",
       "      <td>0.0</td>\n",
       "      <td>0.0</td>\n",
       "      <td>0.0</td>\n",
       "      <td>0.0</td>\n",
       "      <td>0.0</td>\n",
       "      <td>0.0</td>\n",
       "      <td>0.0</td>\n",
       "      <td>0.0</td>\n",
       "      <td>0.0</td>\n",
       "      <td>0.0</td>\n",
       "    </tr>\n",
       "    <tr>\n",
       "      <th>28</th>\n",
       "      <td>0.0</td>\n",
       "      <td>0.0</td>\n",
       "      <td>0.0</td>\n",
       "      <td>0.0</td>\n",
       "      <td>0.0</td>\n",
       "      <td>0.0</td>\n",
       "      <td>0.0</td>\n",
       "      <td>0.0</td>\n",
       "      <td>0.0</td>\n",
       "      <td>0.0</td>\n",
       "      <td>...</td>\n",
       "      <td>0.0</td>\n",
       "      <td>0.0</td>\n",
       "      <td>0.0</td>\n",
       "      <td>0.0</td>\n",
       "      <td>0.0</td>\n",
       "      <td>0.0</td>\n",
       "      <td>0.0</td>\n",
       "      <td>0.0</td>\n",
       "      <td>0.0</td>\n",
       "      <td>0.0</td>\n",
       "    </tr>\n",
       "    <tr>\n",
       "      <th>29</th>\n",
       "      <td>0.0</td>\n",
       "      <td>0.0</td>\n",
       "      <td>0.0</td>\n",
       "      <td>0.0</td>\n",
       "      <td>0.0</td>\n",
       "      <td>0.0</td>\n",
       "      <td>0.0</td>\n",
       "      <td>0.0</td>\n",
       "      <td>0.0</td>\n",
       "      <td>0.0</td>\n",
       "      <td>...</td>\n",
       "      <td>0.0</td>\n",
       "      <td>0.0</td>\n",
       "      <td>0.0</td>\n",
       "      <td>0.0</td>\n",
       "      <td>0.0</td>\n",
       "      <td>0.0</td>\n",
       "      <td>0.0</td>\n",
       "      <td>0.0</td>\n",
       "      <td>0.0</td>\n",
       "      <td>0.0</td>\n",
       "    </tr>\n",
       "    <tr>\n",
       "      <th>35</th>\n",
       "      <td>0.0</td>\n",
       "      <td>0.0</td>\n",
       "      <td>0.0</td>\n",
       "      <td>0.0</td>\n",
       "      <td>0.0</td>\n",
       "      <td>0.0</td>\n",
       "      <td>0.0</td>\n",
       "      <td>0.0</td>\n",
       "      <td>0.0</td>\n",
       "      <td>0.0</td>\n",
       "      <td>...</td>\n",
       "      <td>0.0</td>\n",
       "      <td>0.0</td>\n",
       "      <td>0.0</td>\n",
       "      <td>0.0</td>\n",
       "      <td>0.0</td>\n",
       "      <td>0.0</td>\n",
       "      <td>0.0</td>\n",
       "      <td>0.0</td>\n",
       "      <td>0.0</td>\n",
       "      <td>0.0</td>\n",
       "    </tr>\n",
       "  </tbody>\n",
       "</table>\n",
       "<p>5 rows × 22106 columns</p>\n",
       "</div>"
      ],
      "text/plain": [
       "          00  000   05   0l   0s   10  100  101  1023  1030l  ...  étonnante  \\\n",
       "Book_ID                                                       ...              \n",
       "8        0.0  0.0  0.0  0.0  0.0  0.0  0.0  0.0   0.0    0.0  ...        0.0   \n",
       "9        0.0  0.0  0.0  0.0  0.0  0.0  0.0  0.0   0.0    0.0  ...        0.0   \n",
       "28       0.0  0.0  0.0  0.0  0.0  0.0  0.0  0.0   0.0    0.0  ...        0.0   \n",
       "29       0.0  0.0  0.0  0.0  0.0  0.0  0.0  0.0   0.0    0.0  ...        0.0   \n",
       "35       0.0  0.0  0.0  0.0  0.0  0.0  0.0  0.0   0.0    0.0  ...        0.0   \n",
       "\n",
       "         éxito  última  últimas  último  últimos  única  über  überlebens  \\\n",
       "Book_ID                                                                     \n",
       "8          0.0     0.0      0.0     0.0      0.0    0.0   0.0         0.0   \n",
       "9          0.0     0.0      0.0     0.0      0.0    0.0   0.0         0.0   \n",
       "28         0.0     0.0      0.0     0.0      0.0    0.0   0.0         0.0   \n",
       "29         0.0     0.0      0.0     0.0      0.0    0.0   0.0         0.0   \n",
       "35         0.0     0.0      0.0     0.0      0.0    0.0   0.0         0.0   \n",
       "\n",
       "         übertrifft  \n",
       "Book_ID              \n",
       "8               0.0  \n",
       "9               0.0  \n",
       "28              0.0  \n",
       "29              0.0  \n",
       "35              0.0  \n",
       "\n",
       "[5 rows x 22106 columns]"
      ]
     },
     "execution_count": 522,
     "metadata": {},
     "output_type": "execute_result"
    }
   ],
   "source": [
    "tfidf_desc.head()"
   ]
  },
  {
   "cell_type": "markdown",
   "id": "cf0012c2-083d-4903-a630-7906063ac9b0",
   "metadata": {},
   "source": [
    "#### Test the recommender on some random users"
   ]
  },
  {
   "cell_type": "code",
   "execution_count": 822,
   "id": "4a6274af-bc16-4da2-93ed-02e57a920c39",
   "metadata": {},
   "outputs": [
    {
     "name": "stdout",
     "output_type": "stream",
     "text": [
      "Top rated books by the user are the following:\n",
      "\n",
      "Lena (50 State Quarters)\n",
      "Strange but True\n",
      "The Protocol\n",
      "------------------------------------------------------------\n",
      "Top 5 recommendations for the user are the following:\n",
      "\n",
      "The Diary of Ellen Rimbauer: My Life at Rose Red\n",
      "Love Is the Key\n",
      "Chasing Redbird\n",
      "Grab Hands and Run\n",
      "The Moonlight Man\n"
     ]
    }
   ],
   "source": [
    "# desc_matrix is where you can get user rating for user_scores\n",
    "# tfidf_desc is the data_matrix for applying recommendations based on description\n",
    "\n",
    "content_similarity(desc_matrix.iloc[11,:], tfidf_desc, merged_book_info, 5, 0.8)"
   ]
  },
  {
   "cell_type": "code",
   "execution_count": 823,
   "id": "981990ba-f946-4a53-b909-860a33215935",
   "metadata": {},
   "outputs": [
    {
     "name": "stdout",
     "output_type": "stream",
     "text": [
      "Top rated books by the user are the following:\n",
      "\n",
      "Tis : A Memoir\n",
      "The Reader\n",
      "Jurassic Park\n",
      "A Thousand Words for Stranger (Daw Book Collectors)\n",
      "The Lord of the Rings (Movie Art Cover)\n",
      "The Egg and I\n",
      "------------------------------------------------------------\n",
      "Top 5 recommendations for the user are the following:\n",
      "\n",
      "The Fellowship of the Ring\n",
      "The Two Towers (The Lord of the Rings, Part 2)\n",
      "The Fellowship of the Ring (The Lord of the Rings, Part 1)\n",
      "The Fellowship of the Ring (The Lord of the Rings, Part 1)\n",
      "The Lord of the Rings\n"
     ]
    }
   ],
   "source": [
    "content_similarity(desc_matrix.iloc[278,:], tf_df, merged_book_info, 5, 0.8)"
   ]
  },
  {
   "cell_type": "code",
   "execution_count": null,
   "id": "7fb415e5-34e9-4c5a-8c3d-e5ea8f48f8ec",
   "metadata": {},
   "outputs": [],
   "source": []
  },
  {
   "cell_type": "code",
   "execution_count": null,
   "id": "1a1b7a63-7afe-43ed-ae1b-d579183ab204",
   "metadata": {},
   "outputs": [],
   "source": []
  }
 ],
 "metadata": {
  "kernelspec": {
   "display_name": "Python [conda env:base] *",
   "language": "python",
   "name": "conda-base-py"
  },
  "language_info": {
   "codemirror_mode": {
    "name": "ipython",
    "version": 3
   },
   "file_extension": ".py",
   "mimetype": "text/x-python",
   "name": "python",
   "nbconvert_exporter": "python",
   "pygments_lexer": "ipython3",
   "version": "3.12.7"
  }
 },
 "nbformat": 4,
 "nbformat_minor": 5
}
